{
 "cells": [
  {
   "cell_type": "markdown",
   "metadata": {},
   "source": [
    "# Машинное обучение\n",
    "\n",
    "Практическое задание 1 посвящено изучению основных библиотек для анализа данных, а также линейных моделей и методов их обучения. Вы научитесь:\n",
    " * применять библиотеки NumPy и Pandas для осуществления желаемых преобразований;\n",
    " * подготавливать данные для обучения линейных моделей;\n",
    " * обучать линейную, Lasso и Ridge-регрессии при помощи модуля scikit-learn;\n",
    " * реализовывать обычный и стохастический градиентные спуски;\n",
    " * обучать линейную регрессию для произвольного функционала качества."
   ]
  },
  {
   "cell_type": "markdown",
   "metadata": {},
   "source": [
    "## Библиотеки для анализа данных\n",
    "\n",
    "### NumPy\n",
    "\n",
    "Во всех заданиях данного раздела запрещено использовать циклы  и list comprehensions. Под вектором и матрицей в данных заданиях понимается одномерный и двумерный numpy.array соответственно."
   ]
  },
  {
   "cell_type": "code",
   "execution_count": 2,
   "metadata": {},
   "outputs": [],
   "source": [
    "import numpy as np"
   ]
  },
  {
   "cell_type": "markdown",
   "metadata": {},
   "source": [
    "Реализуйте функцию, возвращающую максимальный элемент в векторе x среди элементов, перед которыми стоит нулевой. Для x = np.array([6, 2, 0, 3, 0, 0, 5, 7, 0]) ответом является 5. Если нулевых элементов нет, функция должна возвращать None.\n"
   ]
  },
  {
   "cell_type": "code",
   "execution_count": 15,
   "metadata": {},
   "outputs": [
    {
     "name": "stdout",
     "output_type": "stream",
     "text": [
      "5\n"
     ]
    }
   ],
   "source": [
    "def max_element(arr):\n",
    "    zero = arr==0;\n",
    "    print (arr[1:][zero[:-1]].max());\n",
    "newArray=np.array([6, 2, 0, 3, 0, 0, 5, 7, 0]);\n",
    "max_element(newArray);"
   ]
  },
  {
   "cell_type": "markdown",
   "metadata": {},
   "source": [
    "Реализуйте функцию, принимающую на вход матрицу и некоторое число и возвращающую ближайший к числу элемент матрицы. Например: для X = np.arange(0,10).reshape((2, 5)) и v = 3.6 ответом будет 4."
   ]
  },
  {
   "cell_type": "code",
   "execution_count": 16,
   "metadata": {},
   "outputs": [
    {
     "data": {
      "text/plain": [
       "4"
      ]
     },
     "execution_count": 16,
     "metadata": {},
     "output_type": "execute_result"
    }
   ],
   "source": [
    "def nearest_value(X, v):\n",
    "    deviations = np.abs(X - v)\n",
    "    return X[np.where(deviations == np.min(deviations))][0]\n",
    "x= np.arange(0,10).reshape((2, 5)) \n",
    "v=3.6\n",
    "nearest_value(x, v )"
   ]
  },
  {
   "cell_type": "markdown",
   "metadata": {},
   "source": [
    "Реализуйте функцию scale(X), которая принимает на вход матрицу и масштабирует каждый ее столбец (вычитает выборочное среднее и делит на стандартное отклонение). Убедитесь, что в функции не будет происходить деления на ноль. Протестируйте на случайной матрице (для её генерации можно использовать, например, функцию [numpy.random.randint](http://docs.scipy.org/doc/numpy/reference/generated/numpy.random.randint.html))."
   ]
  },
  {
   "cell_type": "code",
   "execution_count": 3,
   "metadata": {},
   "outputs": [
    {
     "name": "stdout",
     "output_type": "stream",
     "text": [
      "[[ 0.84763109  0.67648143  0.72760688 -0.16401635]\n",
      " [-1.59799305  1.27779825  0.72760688 -1.1845625 ]\n",
      " [ 0.84763109 -0.97713984 -1.69774938  1.58549134]\n",
      " [-0.09726914 -0.97713984  0.24253563 -0.2369125 ]]\n"
     ]
    }
   ],
   "source": [
    "def scale(X):\n",
    "    means, stds = np.mean(X, axis=0), np.std(X, axis=0)\n",
    "    print((X - means)/stds)\n",
    "    \n",
    "X = np.random.randint(0, 50, size = (4, 4))    \n",
    "scale(X)"
   ]
  },
  {
   "cell_type": "markdown",
   "metadata": {},
   "source": [
    " Реализуйте функцию, которая для заданной матрицы находит:\n",
    " - определитель\n",
    " - след\n",
    " - наименьший и наибольший элементы\n",
    " - норму Фробениуса\n",
    " - собственные числа\n",
    " - обратную матрицу\n",
    "\n",
    "Для тестирования сгенерируйте матрицу с элементами из нормального распределения $\\mathcal{N}$(10,1)"
   ]
  },
  {
   "cell_type": "code",
   "execution_count": 5,
   "metadata": {},
   "outputs": [
    {
     "name": "stdout",
     "output_type": "stream",
     "text": [
      "[[10.45918998 10.87728114 10.76424368]\n",
      " [10.8875016  10.8467367  10.62500222]\n",
      " [ 8.53942986 12.19009498 10.77345763]]\n",
      "Определитель:  10.19512801941268\n",
      "След:  32.07938430865141\n",
      "Наименьший элемент:  8.539429857699524\n",
      "Наибольший элемент:  12.190094984973197\n",
      "Норма Фробениуса:  32.09745425461858\n",
      "Собственные числа:  [31.99182466+0.j          0.04377983+0.56281657j  0.04377983-0.56281657j]\n",
      "Обратная матрица:  [[-1.24205679  1.3762677  -0.11630856]\n",
      " [-2.60561475  2.03637818  0.59506889]\n",
      " [ 3.93273447 -3.3950275  -0.4883054 ]]\n"
     ]
    }
   ],
   "source": [
    "from numpy import linalg as la\n",
    "def get_stats(X):\n",
    "    print(\"Определитель: \", np.linalg.det(X))\n",
    "    print(\"След: \", np.trace(X))\n",
    "    print('Наименьший элемент: ', np.amin(X))\n",
    "    print('Наибольший элемент: ', np.amax(X))\n",
    "    print(\"Норма Фробениуса: \", np.linalg.norm(X))\n",
    "    print(\"Собственные числа: \", np.linalg.eig(X)[0])\n",
    "    print(\"Обратная матрица: \", np.linalg.inv(X))\n",
    "       \n",
    "X = np.array([np.random.normal(10, 1, 3) for i in range(3)])\n",
    "print(X)\n",
    "get_stats(X)"
   ]
  },
  {
   "cell_type": "markdown",
   "metadata": {},
   "source": [
    "Повторите 100 раз следующий эксперимент: сгенерируйте две матрицы размера 10×10 из стандартного нормального распределения, перемножьте их (как матрицы) и найдите максимальный элемент. Какое среднее значение по экспериментам у максимальных элементов? 95-процентная квантиль?"
   ]
  },
  {
   "cell_type": "code",
   "execution_count": 6,
   "metadata": {},
   "outputs": [
    {
     "name": "stdout",
     "output_type": "stream",
     "text": [
      "Среднее:  8.142352346636258\n",
      "95% квантиль:  11.43339545972563\n"
     ]
    }
   ],
   "source": [
    "vals = np.empty(100)\n",
    "for exp_num in range(100):\n",
    "    x1 = np.random.normal(0, 1, (10, 10))\n",
    "    x2 = np.random.normal(0, 1, (10, 10))\n",
    "    vals[exp_num] = np.max(x1.dot(x2))\n",
    "    \n",
    "print(\"Среднее: \", np.average(vals))\n",
    "print(\"95% квантиль: \", np.percentile(vals, 95))"
   ]
  },
  {
   "cell_type": "markdown",
   "metadata": {},
   "source": [
    "### Pandas\n",
    "\n",
    "![](https://metrouk2.files.wordpress.com/2015/10/panda.jpg)\n",
    "\n",
    "#### Ответьте на вопросы о данных по авиарейсам в США за январь-апрель 2008 года.\n",
    "\n",
    "[Данные](https://www.dropbox.com/s/dvfitn93obn0rql/2008.csv?dl=0) и их [описание](http://stat-computing.org/dataexpo/2009/the-data.html)"
   ]
  },
  {
   "cell_type": "code",
   "execution_count": 7,
   "metadata": {},
   "outputs": [],
   "source": [
    "import pandas as pd\n",
    "%matplotlib inline"
   ]
  },
  {
   "cell_type": "markdown",
   "metadata": {},
   "source": [
    "Какая из причин отмены рейса (`CancellationCode`) была самой частой? (расшифровки кодов можно найти в описании данных)"
   ]
  },
  {
   "cell_type": "code",
   "execution_count": 8,
   "metadata": {},
   "outputs": [
    {
     "name": "stdout",
     "output_type": "stream",
     "text": [
      "A-carrier = 563\n"
     ]
    }
   ],
   "source": [
    "data = pd.read_csv(\"2008.csv\")\n",
    "\n",
    "A=0; B=0;C=0;D=0;\n",
    "for val in data.CancellationCode: #перебор значений в объекте forech c#\n",
    "    if val=='A':\n",
    "        A=A+1\n",
    "    if val=='B':\n",
    "        B=B+1\n",
    "    if val=='C':\n",
    "        C=C+1\n",
    "    if val=='D':\n",
    "        D=D+1\n",
    "\n",
    "if A>B and A>C and A>D:\n",
    "    print ('A-carrier =',A)\n",
    "        \n",
    "else:\n",
    "    if B>A and B>C and B>D:\n",
    "        print ('B-weather =',B)\n",
    "    else:\n",
    "        if C>A and C>B and C>D:\n",
    "            print ('C-NAS =',C) \n",
    "        else:\n",
    "            if D>A and D>B and D>C:\n",
    "                print ('D-security =',D) \n",
    "            else:\n",
    "                 print(' A-carrier =',A,'\\n', 'B-weather =',B,'\\n', \n",
    "                       'C-NAS =',C,'\\n','D-security =',D)\n"
   ]
  },
  {
   "cell_type": "markdown",
   "metadata": {},
   "source": [
    " Найдите среднее, минимальное и максимальное расстояние, пройденное самолетом."
   ]
  },
  {
   "cell_type": "code",
   "execution_count": 9,
   "metadata": {},
   "outputs": [
    {
     "name": "stdout",
     "output_type": "stream",
     "text": [
      "Максимальное расстояние: =  4962\n",
      "Среднее расстояние: =  724.5082571428571\n",
      "Минимальное расстояние: =  31\n"
     ]
    }
   ],
   "source": [
    "data = pd.read_csv(\"2008.csv\")\n",
    "dists = data[\"Distance\"]\n",
    "print (\"Максимальное расстояние: = \", dists.max())\n",
    "print (\"Среднее расстояние: = \", dists.mean())\n",
    "print (\"Минимальное расстояние: = \", dists.min())"
   ]
  },
  {
   "cell_type": "markdown",
   "metadata": {},
   "source": [
    " Не выглядит ли подозрительным минимальное пройденное расстояние? В какие дни и на каких рейсах оно было? Какое расстояние было пройдено этими же рейсами в другие дни?"
   ]
  },
  {
   "cell_type": "code",
   "execution_count": 28,
   "metadata": {},
   "outputs": [
    {
     "name": "stdout",
     "output_type": "stream",
     "text": [
      "       Distance  Month  DayofMonth  FlightNum\n",
      "27534        31      3          11         64\n",
      "48112        31      2          28         64\n",
      "1116         31     12          30         65\n",
      "46082        31      8           9         65\n",
      "FlightNum=64:  \n",
      "        Distance  Month  DayofMonth  FlightNum\n",
      "44810        82      2          12         64\n",
      "3869         82      7           1         64\n",
      "32242        82      9          23         64\n",
      "30053        82      1           4         64\n",
      "12980        82      8           6         64\n",
      "55053       123      3          31         64\n",
      "4466        123      6          29         64\n",
      "8448        123      2          10         64\n",
      "29801       123      4          23         64\n",
      "10833       372      3          31         64\n",
      "64319       414      5           3         64\n",
      "501         533      3          20         64\n",
      "25671       533      1          15         64\n",
      "67172       533      3          22         64\n",
      "9615        533      1           4         64\n",
      "58530       571      1          16         64\n",
      "44649       571      9          14         64\n",
      "61164       680      9          14         64\n",
      "1389        680      3          13         64\n",
      "24750       680      8          21         64\n",
      "31629       883      7          19         64\n",
      "26323      1005     12          15         64\n",
      "31375      1005      3          30         64\n",
      "48020      1005     11           1         64\n",
      "13155      1747      7           2         64\n",
      "33769      1747     12           7         64\n",
      "7977       1747      7           9         64\n",
      "12352      1747      1          14         64\n",
      "41044      1747      3          30         64\n",
      "7891       2381      4           6         64\n",
      "2619       2381      5          23         64\n",
      "FlightNum=65:  \n",
      "        Distance  Month  DayofMonth  FlightNum\n",
      "37350        82      5          27         65\n",
      "6326         82     10          18         65\n",
      "50888        82      9          30         65\n",
      "66529        82     12          21         65\n",
      "45031        82      8          23         65\n",
      "64203        82      1           4         65\n",
      "43132       123      7          24         65\n",
      "65662       123      3           4         65\n",
      "47716       281      1          11         65\n",
      "50910       372      6          15         65\n",
      "50184       372      1          25         65\n",
      "66042       372      2          10         65\n",
      "68264       386      9           7         65\n",
      "39438       571      5           2         65\n",
      "26109       571      4           1         65\n",
      "10113       571      7          24         65\n",
      "26025       581      5          13         65\n",
      "47168       581      7          19         65\n",
      "54909       581     11           6         65\n",
      "52459       581     12           9         65\n",
      "52618       680      4          29         65\n",
      "1517        680      7          10         65\n",
      "49369       682      3          19         65\n",
      "59015      1005      2          26         65\n",
      "15173      1005     10          22         65\n",
      "69305      1005      1           5         65\n",
      "52779      1747      9          14         65\n",
      "57730      1747     11          14         65\n",
      "57822      1747      5           3         65\n",
      "32173      1747      2          23         65\n",
      "26824      1747      6          17         65\n",
      "51841      1747      1          19         65\n",
      "68338      2454      8           3         65\n",
      "32956      2454      5          28         65\n",
      "14646      2454     11          29         65\n"
     ]
    }
   ],
   "source": [
    "susp=data[(data.Distance== 31)][['Distance',\"Month\", 'DayofMonth', 'FlightNum']].sort_values('FlightNum') ;\n",
    "print (susp);\n",
    "susp=data[(data.FlightNum==64) & (data.Distance!= 31)][['Distance','Month','DayofMonth', 'FlightNum']].sort_values('Distance')\n",
    "print ('FlightNum=64: ','\\n',susp);\n",
    "\n",
    "susp=data[(data.FlightNum==65) & (data.Distance!= 31)][['Distance','Month','DayofMonth', 'FlightNum']].sort_values('Distance')\n",
    "print ('FlightNum=65: ','\\n',susp);"
   ]
  },
  {
   "cell_type": "markdown",
   "metadata": {},
   "source": [
    "Из какого аэропорта было произведено больше всего вылетов? В каком городе он находится?"
   ]
  },
  {
   "cell_type": "code",
   "execution_count": 11,
   "metadata": {},
   "outputs": [
    {
     "name": "stdout",
     "output_type": "stream",
     "text": [
      "ATL находится в городе  ['Atlanta']\n"
     ]
    }
   ],
   "source": [
    "IATA_code = data.groupby('Origin').size().idxmax()\n",
    "airports = pd.read_csv('airports.csv') # http://stat-computing.org/dataexpo/2009/supplemental-data.html\n",
    "print(IATA_code, \"находится в городе \", airports[airports['iata'] == IATA_code]['city'].values)"
   ]
  },
  {
   "cell_type": "markdown",
   "metadata": {},
   "source": [
    "Найдите для каждого аэропорта среднее время полета (`AirTime`) по всем вылетевшим из него рейсам. Какой аэропорт имеет наибольшее значение этого показателя?"
   ]
  },
  {
   "cell_type": "code",
   "execution_count": 12,
   "metadata": {},
   "outputs": [
    {
     "name": "stdout",
     "output_type": "stream",
     "text": [
      "Аэропорт с интентификатором  SJU\n"
     ]
    }
   ],
   "source": [
    "time_mean = data[['Origin', 'AirTime' ]].groupby('Origin').mean()\n",
    "print(\"Аэропорт с интентификатором \", time_mean['AirTime'].idxmax())"
   ]
  },
  {
   "cell_type": "markdown",
   "metadata": {},
   "source": [
    "Найдите аэропорт, у которого наибольшая доля задержанных (`DepDelay > 0`) рейсов. Исключите при этом из рассмотрения аэропорты, из которых было отправлено меньше 1000 рейсов (используйте функцию `filter` после `groupby`)."
   ]
  },
  {
   "cell_type": "code",
   "execution_count": 13,
   "metadata": {},
   "outputs": [
    {
     "name": "stdout",
     "output_type": "stream",
     "text": [
      "0.5111591072714183\n"
     ]
    },
    {
     "data": {
      "text/html": [
       "<div>\n",
       "<style scoped>\n",
       "    .dataframe tbody tr th:only-of-type {\n",
       "        vertical-align: middle;\n",
       "    }\n",
       "\n",
       "    .dataframe tbody tr th {\n",
       "        vertical-align: top;\n",
       "    }\n",
       "\n",
       "    .dataframe thead th {\n",
       "        text-align: right;\n",
       "    }\n",
       "</style>\n",
       "<table border=\"1\" class=\"dataframe\">\n",
       "  <thead>\n",
       "    <tr style=\"text-align: right;\">\n",
       "      <th></th>\n",
       "      <th>iata</th>\n",
       "      <th>airport</th>\n",
       "      <th>city</th>\n",
       "      <th>state</th>\n",
       "      <th>country</th>\n",
       "      <th>lat</th>\n",
       "      <th>long</th>\n",
       "    </tr>\n",
       "  </thead>\n",
       "  <tbody>\n",
       "    <tr>\n",
       "      <th>1436</th>\n",
       "      <td>EWR</td>\n",
       "      <td>Newark Intl</td>\n",
       "      <td>Newark</td>\n",
       "      <td>NJ</td>\n",
       "      <td>USA</td>\n",
       "      <td>40.692497</td>\n",
       "      <td>-74.168661</td>\n",
       "    </tr>\n",
       "  </tbody>\n",
       "</table>\n",
       "</div>"
      ],
      "text/plain": [
       "     iata      airport    city state country        lat       long\n",
       "1436  EWR  Newark Intl  Newark    NJ     USA  40.692497 -74.168661"
      ]
     },
     "execution_count": 13,
     "metadata": {},
     "output_type": "execute_result"
    }
   ],
   "source": [
    "all_flights = data.groupby(\"Origin\").size()\n",
    "delayed_flights = data[data[\"DepDelay\"] > 0].groupby(\"Origin\").size()\n",
    "fraction_delayed = delayed_flights[all_flights > 1000] / all_flights[all_flights > 1000]\n",
    "max_fraction_delayed = fraction_delayed.idxmax()\n",
    "print (fraction_delayed.max())\n",
    "airports[airports[\"iata\"] == max_fraction_delayed]"
   ]
  },
  {
   "cell_type": "markdown",
   "metadata": {},
   "source": [
    "## Линейная регрессия\n",
    "\n",
    "В этой части мы разберемся с линейной регрессией, способами её обучения и измерением качества ее прогнозов. \n",
    "\n",
    "Будем рассматривать датасет из предыдущей части задания для предсказания времени задержки отправления рейса в минутах (DepDelay). Отметим, что под задержкой подразумевается не только опоздание рейса относительно планируемого времени вылета, но и отправление до планируемого времени.\n",
    "\n",
    "### Подготовка данных\n",
    "\n",
    "**12. (0.5 балла)** Считайте выборку из файла при помощи функции pd.read_csv и ответьте на следующие вопросы:\n",
    "   - Имеются ли в данных пропущенные значения?\n",
    "   - Сколько всего пропущенных элементов в таблице \"объект-признак\"?\n",
    "   - Сколько объектов имеют хотя бы один пропуск?\n",
    "   - Сколько признаков имеют хотя бы одно пропущенное значение?"
   ]
  },
  {
   "cell_type": "code",
   "execution_count": 82,
   "metadata": {
    "scrolled": true
   },
   "outputs": [],
   "source": [
    "data = pd.read_csv('2008.csv')"
   ]
  },
  {
   "cell_type": "markdown",
   "metadata": {},
   "source": [
    "Как вы понимаете, также не имеет смысла рассматривать при решении поставленной задачи объекты с пропущенным значением целевой переменной. В связи с этим ответьте на следующие вопросы и выполните соответствующие действия:\n",
    "- Имеются ли пропущенные значения в целевой переменной?\n",
    "- Проанализируйте объекты с пропущенными значениями целевой переменной. Чем вызвано это явление? Что их объединяет? Можно ли в связи с этим, на ваш взгляд, исключить какие-то признаки из рассмотрения? Обоснуйте свою точку зрения.\n",
    "\n",
    "Исключите из выборки объекты **с пропущенным значением целевой переменной и со значением целевой переменной, равным 0**, а также при необходимости исключите признаки в соответствии с вашим ответом на последний вопрос из списка и выделите целевую переменную в отдельный вектор, исключив её из матрицы \"объект-признак\"."
   ]
  },
  {
   "cell_type": "code",
   "execution_count": 83,
   "metadata": {},
   "outputs": [
    {
     "name": "stdout",
     "output_type": "stream",
     "text": [
      "Имеются ли в данных пропущенные значения:  True\n",
      "Всего пропущенных элементов в таблице \"объект-признак\":  355215\n",
      "Количество объектов, имеющих хотя бы один пропуск: 70000\n",
      "Количество признаков, имеющих хотя бы одно пропущенное значение:  16\n"
     ]
    }
   ],
   "source": [
    "s=data.isnull().sum()\n",
    "print('Имеются ли в данных пропущенные значения: ', s.count()>0)\n",
    "print('Всего пропущенных элементов в таблице \"объект-признак\": ',data.isnull().sum().sum())\n",
    "print('Количество объектов, имеющих хотя бы один пропуск: {}'.format(np.sum(np.any(data, axis=1))))\n",
    "#print('Количество признаков всего: ',s.count())\n",
    "#print('Признаки, имеющие хотя бы одно пропущенное значение: ','\\n',s)\n",
    "pr_null=0\n",
    "for pr in s:\n",
    "    if pr > 0:\n",
    "        pr_null+=1  \n",
    "print('Количество признаков, имеющих хотя бы одно пропущенное значение: ',pr_null)"
   ]
  },
  {
   "cell_type": "code",
   "execution_count": 84,
   "metadata": {},
   "outputs": [
    {
     "name": "stdout",
     "output_type": "stream",
     "text": [
      "1399 пропущенных значений в целевой переменной\n"
     ]
    }
   ],
   "source": [
    "print(data['DepDelay'].isnull().sum(), 'пропущенных значений в целевой переменной')"
   ]
  },
  {
   "cell_type": "code",
   "execution_count": 85,
   "metadata": {},
   "outputs": [
    {
     "name": "stdout",
     "output_type": "stream",
     "text": [
      "       Year  Month  DayofMonth  DayOfWeek  DepTime  CRSDepTime  ArrTime  \\\n",
      "0      2008      6          18          3   2111.0        2055   2308.0   \n",
      "1      2008      6           4          3   1426.0        1410   1730.0   \n",
      "2      2008      8           3          7   1143.0        1145   1501.0   \n",
      "3      2008      1          23          3   1141.0        1144   1323.0   \n",
      "4      2008      5           4          7    815.0         820   1243.0   \n",
      "...     ...    ...         ...        ...      ...         ...      ...   \n",
      "69994  2008      1          26          6    920.0         925   1110.0   \n",
      "69995  2008      5          12          1   1829.0        1840   2137.0   \n",
      "69996  2008      5          11          7   1149.0        1125   1336.0   \n",
      "69998  2008      2          18          1   1906.0        1900   2200.0   \n",
      "69999  2008     12           6          6    859.0         900    959.0   \n",
      "\n",
      "       CRSArrTime UniqueCarrier  FlightNum  ... TaxiIn  TaxiOut  Cancelled  \\\n",
      "0            2300            WN        242  ...    3.0      8.0          0   \n",
      "1            1728            XE       2380  ...    4.0     12.0          0   \n",
      "2            1520            WN       1769  ...    4.0      9.0          0   \n",
      "3            1335            OO       3802  ...    4.0     19.0          0   \n",
      "4            1300            WN        399  ...    4.0      8.0          0   \n",
      "...           ...           ...        ...  ...    ...      ...        ...   \n",
      "69994        1118            OH       5218  ...   12.0     13.0          0   \n",
      "69995        2149            DL        794  ...   22.0     20.0          0   \n",
      "69996        1314            OO       6159  ...    4.0     13.0          0   \n",
      "69998        2139            NW        641  ...   20.0     22.0          0   \n",
      "69999        1005            WN        510  ...    2.0     12.0          0   \n",
      "\n",
      "       CancellationCode  Diverted  CarrierDelay WeatherDelay NASDelay  \\\n",
      "0                   NaN         0           NaN          NaN      NaN   \n",
      "1                   NaN         0           NaN          NaN      NaN   \n",
      "2                   NaN         0           NaN          NaN      NaN   \n",
      "3                   NaN         0           NaN          NaN      NaN   \n",
      "4                   NaN         0           NaN          NaN      NaN   \n",
      "...                 ...       ...           ...          ...      ...   \n",
      "69994               NaN         0           NaN          NaN      NaN   \n",
      "69995               NaN         0           NaN          NaN      NaN   \n",
      "69996               NaN         0           0.0          0.0      0.0   \n",
      "69998               NaN         0           0.0          0.0     15.0   \n",
      "69999               NaN         0           NaN          NaN      NaN   \n",
      "\n",
      "       SecurityDelay  LateAircraftDelay  \n",
      "0                NaN                NaN  \n",
      "1                NaN                NaN  \n",
      "2                NaN                NaN  \n",
      "3                NaN                NaN  \n",
      "4                NaN                NaN  \n",
      "...              ...                ...  \n",
      "69994            NaN                NaN  \n",
      "69995            NaN                NaN  \n",
      "69996            0.0               22.0  \n",
      "69998            0.0                6.0  \n",
      "69999            NaN                NaN  \n",
      "\n",
      "[63404 rows x 29 columns]\n"
     ]
    }
   ],
   "source": [
    "#Исключаем из выборки объекты с пропущенным значением целевой переменной и со значением целевой переменной, равным 0\n",
    "data=data[(data.DepDelay!=0) & (data.DepDelay.notnull())]\n",
    "print(data)"
   ]
  },
  {
   "cell_type": "code",
   "execution_count": 86,
   "metadata": {},
   "outputs": [],
   "source": [
    "#выделяем целевую переменную в отдельный вектор, исключив её из матрицы \"объект-признак\"\n",
    "vect = data['DepDelay']\n",
    "data.drop(['DepDelay'], axis = 1, inplace = True)"
   ]
  },
  {
   "cell_type": "markdown",
   "metadata": {},
   "source": [
    "**13. (0.5 балла)** Обратите внимание, что признаки DepTime, CRSDepTime, ArrTime, CRSArrTime приведены в формате hhmm, в связи с чем будет не вполне корректно рассматривать их как вещественные.\n",
    "\n",
    "Преобразуйте каждый признак FeatureName из указанных в пару новых признаков FeatureName\\_Hour, FeatureName\\_Minute, разделив каждое из значений на часы и минуты. Не забудьте при этом исключить исходный признак из выборки. В случае, если значение признака отсутствует, значения двух новых признаков, его заменяющих, также должны отсутствовать. \n",
    "\n",
    "Например, признак DepTime необходимо заменить на пару признаков DepTime_Hour, DepTime_Minute. При этом, например, значение 155 исходного признака будет преобразовано в значения 1 и 55 признаков DepTime_Hour, DepTime_Minute соответственно."
   ]
  },
  {
   "cell_type": "code",
   "execution_count": 87,
   "metadata": {},
   "outputs": [
    {
     "name": "stdout",
     "output_type": "stream",
     "text": [
      "       Year  Month  DayofMonth  DayOfWeek  DepTime  CRSDepTime  ArrTime  \\\n",
      "0      2008      6          18          3   2111.0        2055   2308.0   \n",
      "1      2008      6           4          3   1426.0        1410   1730.0   \n",
      "2      2008      8           3          7   1143.0        1145   1501.0   \n",
      "3      2008      1          23          3   1141.0        1144   1323.0   \n",
      "4      2008      5           4          7    815.0         820   1243.0   \n",
      "...     ...    ...         ...        ...      ...         ...      ...   \n",
      "69994  2008      1          26          6    920.0         925   1110.0   \n",
      "69995  2008      5          12          1   1829.0        1840   2137.0   \n",
      "69996  2008      5          11          7   1149.0        1125   1336.0   \n",
      "69998  2008      2          18          1   1906.0        1900   2200.0   \n",
      "69999  2008     12           6          6    859.0         900    959.0   \n",
      "\n",
      "       CRSArrTime UniqueCarrier  FlightNum  ... SecurityDelay  \\\n",
      "0            2300            WN        242  ...           NaN   \n",
      "1            1728            XE       2380  ...           NaN   \n",
      "2            1520            WN       1769  ...           NaN   \n",
      "3            1335            OO       3802  ...           NaN   \n",
      "4            1300            WN        399  ...           NaN   \n",
      "...           ...           ...        ...  ...           ...   \n",
      "69994        1118            OH       5218  ...           NaN   \n",
      "69995        2149            DL        794  ...           NaN   \n",
      "69996        1314            OO       6159  ...           0.0   \n",
      "69998        2139            NW        641  ...           0.0   \n",
      "69999        1005            WN        510  ...           NaN   \n",
      "\n",
      "       LateAircraftDelay  DepTime_Hour  DepTime_Minute  CRSDepTime_Hour  \\\n",
      "0                    NaN          21.0            11.0               20   \n",
      "1                    NaN          14.0            26.0               14   \n",
      "2                    NaN          11.0            43.0               11   \n",
      "3                    NaN          11.0            41.0               11   \n",
      "4                    NaN           8.0            15.0                8   \n",
      "...                  ...           ...             ...              ...   \n",
      "69994                NaN           9.0            20.0                9   \n",
      "69995                NaN          18.0            29.0               18   \n",
      "69996               22.0          11.0            49.0               11   \n",
      "69998                6.0          19.0             6.0               19   \n",
      "69999                NaN           8.0            59.0                9   \n",
      "\n",
      "      CRSDepTime_Minute ArrTime_Hour  ArrTime_Minute  CRSArrTime_Hour  \\\n",
      "0                    55         23.0             8.0               23   \n",
      "1                    10         17.0            30.0               17   \n",
      "2                    45         15.0             1.0               15   \n",
      "3                    44         13.0            23.0               13   \n",
      "4                    20         12.0            43.0               13   \n",
      "...                 ...          ...             ...              ...   \n",
      "69994                25         11.0            10.0               11   \n",
      "69995                40         21.0            37.0               21   \n",
      "69996                25         13.0            36.0               13   \n",
      "69998                 0         22.0             0.0               21   \n",
      "69999                 0          9.0            59.0               10   \n",
      "\n",
      "       CRSArrTime_Minute  \n",
      "0                      0  \n",
      "1                     28  \n",
      "2                     20  \n",
      "3                     35  \n",
      "4                      0  \n",
      "...                  ...  \n",
      "69994                 18  \n",
      "69995                 49  \n",
      "69996                 14  \n",
      "69998                 39  \n",
      "69999                  5  \n",
      "\n",
      "[63404 rows x 36 columns]\n"
     ]
    }
   ],
   "source": [
    "for pr in ['DepTime', 'CRSDepTime', 'ArrTime', 'CRSArrTime']:\n",
    "    data[pr+'_Hour'] = data[pr]//100\n",
    "    data[pr+'_Minute'] = data[pr]%100\n",
    "print(data)"
   ]
  },
  {
   "cell_type": "markdown",
   "metadata": {},
   "source": [
    "**14. (0.5 балла)** Некоторые из признаков, отличных от целевой переменной, могут оказывать чересчур значимое влияние на прогноз, поскольку по своему смыслу содержат большую долю информации о значении целевой переменной. Изучите описание датасета и исключите признаки, сильно коррелирующие с ответами. Ваш выбор признаков для исключения из выборки обоснуйте. Кроме того, исключите признаки TailNum и Year."
   ]
  },
  {
   "cell_type": "code",
   "execution_count": 88,
   "metadata": {},
   "outputs": [],
   "source": [
    "import matplotlib.pyplot as plt"
   ]
  },
  {
   "cell_type": "code",
   "execution_count": 89,
   "metadata": {},
   "outputs": [
    {
     "data": {
      "text/html": [
       "<div>\n",
       "<style scoped>\n",
       "    .dataframe tbody tr th:only-of-type {\n",
       "        vertical-align: middle;\n",
       "    }\n",
       "\n",
       "    .dataframe tbody tr th {\n",
       "        vertical-align: top;\n",
       "    }\n",
       "\n",
       "    .dataframe thead th {\n",
       "        text-align: right;\n",
       "    }\n",
       "</style>\n",
       "<table border=\"1\" class=\"dataframe\">\n",
       "  <thead>\n",
       "    <tr style=\"text-align: right;\">\n",
       "      <th></th>\n",
       "      <th>Year</th>\n",
       "      <th>Month</th>\n",
       "      <th>DayofMonth</th>\n",
       "      <th>DayOfWeek</th>\n",
       "      <th>DepTime</th>\n",
       "      <th>CRSDepTime</th>\n",
       "      <th>ArrTime</th>\n",
       "      <th>CRSArrTime</th>\n",
       "      <th>FlightNum</th>\n",
       "      <th>ActualElapsedTime</th>\n",
       "      <th>...</th>\n",
       "      <th>SecurityDelay</th>\n",
       "      <th>LateAircraftDelay</th>\n",
       "      <th>DepTime_Hour</th>\n",
       "      <th>DepTime_Minute</th>\n",
       "      <th>CRSDepTime_Hour</th>\n",
       "      <th>CRSDepTime_Minute</th>\n",
       "      <th>ArrTime_Hour</th>\n",
       "      <th>ArrTime_Minute</th>\n",
       "      <th>CRSArrTime_Hour</th>\n",
       "      <th>CRSArrTime_Minute</th>\n",
       "    </tr>\n",
       "  </thead>\n",
       "  <tbody>\n",
       "    <tr>\n",
       "      <th>Year</th>\n",
       "      <td>NaN</td>\n",
       "      <td>NaN</td>\n",
       "      <td>NaN</td>\n",
       "      <td>NaN</td>\n",
       "      <td>NaN</td>\n",
       "      <td>NaN</td>\n",
       "      <td>NaN</td>\n",
       "      <td>NaN</td>\n",
       "      <td>NaN</td>\n",
       "      <td>NaN</td>\n",
       "      <td>...</td>\n",
       "      <td>NaN</td>\n",
       "      <td>NaN</td>\n",
       "      <td>NaN</td>\n",
       "      <td>NaN</td>\n",
       "      <td>NaN</td>\n",
       "      <td>NaN</td>\n",
       "      <td>NaN</td>\n",
       "      <td>NaN</td>\n",
       "      <td>NaN</td>\n",
       "      <td>NaN</td>\n",
       "    </tr>\n",
       "    <tr>\n",
       "      <th>Month</th>\n",
       "      <td>NaN</td>\n",
       "      <td>1.000000</td>\n",
       "      <td>-0.004838</td>\n",
       "      <td>-0.010617</td>\n",
       "      <td>-0.008733</td>\n",
       "      <td>-0.006267</td>\n",
       "      <td>-0.002939</td>\n",
       "      <td>0.002609</td>\n",
       "      <td>0.006598</td>\n",
       "      <td>-0.014230</td>\n",
       "      <td>...</td>\n",
       "      <td>0.008620</td>\n",
       "      <td>0.017445</td>\n",
       "      <td>-0.008803</td>\n",
       "      <td>0.002405</td>\n",
       "      <td>-0.006727</td>\n",
       "      <td>0.011477</td>\n",
       "      <td>-0.002887</td>\n",
       "      <td>-0.001491</td>\n",
       "      <td>0.002805</td>\n",
       "      <td>-0.005353</td>\n",
       "    </tr>\n",
       "    <tr>\n",
       "      <th>DayofMonth</th>\n",
       "      <td>NaN</td>\n",
       "      <td>-0.004838</td>\n",
       "      <td>1.000000</td>\n",
       "      <td>0.015818</td>\n",
       "      <td>0.001841</td>\n",
       "      <td>0.002170</td>\n",
       "      <td>-0.001645</td>\n",
       "      <td>0.000754</td>\n",
       "      <td>0.009847</td>\n",
       "      <td>-0.008110</td>\n",
       "      <td>...</td>\n",
       "      <td>-0.007752</td>\n",
       "      <td>0.009641</td>\n",
       "      <td>0.001605</td>\n",
       "      <td>0.006268</td>\n",
       "      <td>0.002206</td>\n",
       "      <td>-0.000784</td>\n",
       "      <td>-0.001435</td>\n",
       "      <td>-0.006125</td>\n",
       "      <td>0.000708</td>\n",
       "      <td>0.001285</td>\n",
       "    </tr>\n",
       "    <tr>\n",
       "      <th>DayOfWeek</th>\n",
       "      <td>NaN</td>\n",
       "      <td>-0.010617</td>\n",
       "      <td>0.015818</td>\n",
       "      <td>1.000000</td>\n",
       "      <td>0.005859</td>\n",
       "      <td>0.005446</td>\n",
       "      <td>0.005732</td>\n",
       "      <td>0.006262</td>\n",
       "      <td>-0.005878</td>\n",
       "      <td>0.010330</td>\n",
       "      <td>...</td>\n",
       "      <td>0.005031</td>\n",
       "      <td>0.007566</td>\n",
       "      <td>0.005866</td>\n",
       "      <td>-0.000551</td>\n",
       "      <td>0.005484</td>\n",
       "      <td>-0.000623</td>\n",
       "      <td>0.005762</td>\n",
       "      <td>-0.000901</td>\n",
       "      <td>0.006235</td>\n",
       "      <td>0.000784</td>\n",
       "    </tr>\n",
       "    <tr>\n",
       "      <th>DepTime</th>\n",
       "      <td>NaN</td>\n",
       "      <td>-0.008733</td>\n",
       "      <td>0.001841</td>\n",
       "      <td>0.005859</td>\n",
       "      <td>1.000000</td>\n",
       "      <td>0.961622</td>\n",
       "      <td>0.708212</td>\n",
       "      <td>0.789659</td>\n",
       "      <td>-0.004003</td>\n",
       "      <td>-0.017291</td>\n",
       "      <td>...</td>\n",
       "      <td>-0.007735</td>\n",
       "      <td>0.206491</td>\n",
       "      <td>0.999319</td>\n",
       "      <td>-0.040352</td>\n",
       "      <td>0.960319</td>\n",
       "      <td>0.098171</td>\n",
       "      <td>0.707787</td>\n",
       "      <td>0.008765</td>\n",
       "      <td>0.788879</td>\n",
       "      <td>0.028827</td>\n",
       "    </tr>\n",
       "    <tr>\n",
       "      <th>CRSDepTime</th>\n",
       "      <td>NaN</td>\n",
       "      <td>-0.006267</td>\n",
       "      <td>0.002170</td>\n",
       "      <td>0.005446</td>\n",
       "      <td>0.961622</td>\n",
       "      <td>1.000000</td>\n",
       "      <td>0.687175</td>\n",
       "      <td>0.787925</td>\n",
       "      <td>-0.011556</td>\n",
       "      <td>-0.016495</td>\n",
       "      <td>...</td>\n",
       "      <td>-0.012709</td>\n",
       "      <td>0.195502</td>\n",
       "      <td>0.960531</td>\n",
       "      <td>-0.026992</td>\n",
       "      <td>0.999260</td>\n",
       "      <td>0.086152</td>\n",
       "      <td>0.686742</td>\n",
       "      <td>0.009113</td>\n",
       "      <td>0.787139</td>\n",
       "      <td>0.028978</td>\n",
       "    </tr>\n",
       "    <tr>\n",
       "      <th>ArrTime</th>\n",
       "      <td>NaN</td>\n",
       "      <td>-0.002939</td>\n",
       "      <td>-0.001645</td>\n",
       "      <td>0.005732</td>\n",
       "      <td>0.708212</td>\n",
       "      <td>0.687175</td>\n",
       "      <td>1.000000</td>\n",
       "      <td>0.852710</td>\n",
       "      <td>-0.019147</td>\n",
       "      <td>0.033074</td>\n",
       "      <td>...</td>\n",
       "      <td>-0.002509</td>\n",
       "      <td>-0.002574</td>\n",
       "      <td>0.707376</td>\n",
       "      <td>-0.018849</td>\n",
       "      <td>0.685880</td>\n",
       "      <td>0.079671</td>\n",
       "      <td>0.999417</td>\n",
       "      <td>0.011869</td>\n",
       "      <td>0.852475</td>\n",
       "      <td>0.014744</td>\n",
       "    </tr>\n",
       "    <tr>\n",
       "      <th>CRSArrTime</th>\n",
       "      <td>NaN</td>\n",
       "      <td>0.002609</td>\n",
       "      <td>0.000754</td>\n",
       "      <td>0.006262</td>\n",
       "      <td>0.789659</td>\n",
       "      <td>0.787925</td>\n",
       "      <td>0.852710</td>\n",
       "      <td>1.000000</td>\n",
       "      <td>-0.030779</td>\n",
       "      <td>0.052724</td>\n",
       "      <td>...</td>\n",
       "      <td>-0.013597</td>\n",
       "      <td>0.151321</td>\n",
       "      <td>0.788642</td>\n",
       "      <td>-0.018868</td>\n",
       "      <td>0.786698</td>\n",
       "      <td>0.084561</td>\n",
       "      <td>0.852298</td>\n",
       "      <td>0.007626</td>\n",
       "      <td>0.999338</td>\n",
       "      <td>0.027539</td>\n",
       "    </tr>\n",
       "    <tr>\n",
       "      <th>FlightNum</th>\n",
       "      <td>NaN</td>\n",
       "      <td>0.006598</td>\n",
       "      <td>0.009847</td>\n",
       "      <td>-0.005878</td>\n",
       "      <td>-0.004003</td>\n",
       "      <td>-0.011556</td>\n",
       "      <td>-0.019147</td>\n",
       "      <td>-0.030779</td>\n",
       "      <td>1.000000</td>\n",
       "      <td>-0.324021</td>\n",
       "      <td>...</td>\n",
       "      <td>0.009387</td>\n",
       "      <td>-0.022415</td>\n",
       "      <td>-0.003754</td>\n",
       "      <td>-0.006509</td>\n",
       "      <td>-0.011477</td>\n",
       "      <td>-0.002824</td>\n",
       "      <td>-0.019202</td>\n",
       "      <td>0.001697</td>\n",
       "      <td>-0.031454</td>\n",
       "      <td>0.018267</td>\n",
       "    </tr>\n",
       "    <tr>\n",
       "      <th>ActualElapsedTime</th>\n",
       "      <td>NaN</td>\n",
       "      <td>-0.014230</td>\n",
       "      <td>-0.008110</td>\n",
       "      <td>0.010330</td>\n",
       "      <td>-0.017291</td>\n",
       "      <td>-0.016495</td>\n",
       "      <td>0.033074</td>\n",
       "      <td>0.052724</td>\n",
       "      <td>-0.324021</td>\n",
       "      <td>1.000000</td>\n",
       "      <td>...</td>\n",
       "      <td>0.002250</td>\n",
       "      <td>-0.085353</td>\n",
       "      <td>-0.017290</td>\n",
       "      <td>0.000991</td>\n",
       "      <td>-0.016923</td>\n",
       "      <td>0.009981</td>\n",
       "      <td>0.033067</td>\n",
       "      <td>0.000021</td>\n",
       "      <td>0.052552</td>\n",
       "      <td>0.005242</td>\n",
       "    </tr>\n",
       "    <tr>\n",
       "      <th>CRSElapsedTime</th>\n",
       "      <td>NaN</td>\n",
       "      <td>-0.005765</td>\n",
       "      <td>-0.007024</td>\n",
       "      <td>0.013325</td>\n",
       "      <td>-0.014580</td>\n",
       "      <td>-0.011475</td>\n",
       "      <td>0.034241</td>\n",
       "      <td>0.058481</td>\n",
       "      <td>-0.331409</td>\n",
       "      <td>0.979979</td>\n",
       "      <td>...</td>\n",
       "      <td>0.003952</td>\n",
       "      <td>-0.041558</td>\n",
       "      <td>-0.014587</td>\n",
       "      <td>0.001035</td>\n",
       "      <td>-0.011965</td>\n",
       "      <td>0.011929</td>\n",
       "      <td>0.034166</td>\n",
       "      <td>0.002003</td>\n",
       "      <td>0.058308</td>\n",
       "      <td>0.005302</td>\n",
       "    </tr>\n",
       "    <tr>\n",
       "      <th>AirTime</th>\n",
       "      <td>NaN</td>\n",
       "      <td>-0.012840</td>\n",
       "      <td>-0.007842</td>\n",
       "      <td>0.011541</td>\n",
       "      <td>-0.023192</td>\n",
       "      <td>-0.020196</td>\n",
       "      <td>0.026768</td>\n",
       "      <td>0.045657</td>\n",
       "      <td>-0.336906</td>\n",
       "      <td>0.984401</td>\n",
       "      <td>...</td>\n",
       "      <td>0.004590</td>\n",
       "      <td>-0.060884</td>\n",
       "      <td>-0.023179</td>\n",
       "      <td>0.001006</td>\n",
       "      <td>-0.020695</td>\n",
       "      <td>0.011579</td>\n",
       "      <td>0.026744</td>\n",
       "      <td>0.000545</td>\n",
       "      <td>0.045576</td>\n",
       "      <td>0.002669</td>\n",
       "    </tr>\n",
       "    <tr>\n",
       "      <th>ArrDelay</th>\n",
       "      <td>NaN</td>\n",
       "      <td>-0.041950</td>\n",
       "      <td>0.006479</td>\n",
       "      <td>0.002943</td>\n",
       "      <td>0.181349</td>\n",
       "      <td>0.120016</td>\n",
       "      <td>0.062730</td>\n",
       "      <td>0.116258</td>\n",
       "      <td>0.027777</td>\n",
       "      <td>0.089451</td>\n",
       "      <td>...</td>\n",
       "      <td>0.008990</td>\n",
       "      <td>0.509705</td>\n",
       "      <td>0.181565</td>\n",
       "      <td>-0.016460</td>\n",
       "      <td>0.119652</td>\n",
       "      <td>0.017466</td>\n",
       "      <td>0.062637</td>\n",
       "      <td>0.002412</td>\n",
       "      <td>0.115969</td>\n",
       "      <td>0.009064</td>\n",
       "    </tr>\n",
       "    <tr>\n",
       "      <th>Distance</th>\n",
       "      <td>NaN</td>\n",
       "      <td>-0.006289</td>\n",
       "      <td>-0.007196</td>\n",
       "      <td>0.014755</td>\n",
       "      <td>-0.016961</td>\n",
       "      <td>-0.011314</td>\n",
       "      <td>0.024735</td>\n",
       "      <td>0.047824</td>\n",
       "      <td>-0.350380</td>\n",
       "      <td>0.965089</td>\n",
       "      <td>...</td>\n",
       "      <td>0.006950</td>\n",
       "      <td>-0.037445</td>\n",
       "      <td>-0.016906</td>\n",
       "      <td>-0.000497</td>\n",
       "      <td>-0.011925</td>\n",
       "      <td>0.015068</td>\n",
       "      <td>0.024635</td>\n",
       "      <td>0.002774</td>\n",
       "      <td>0.047643</td>\n",
       "      <td>0.005432</td>\n",
       "    </tr>\n",
       "    <tr>\n",
       "      <th>TaxiIn</th>\n",
       "      <td>NaN</td>\n",
       "      <td>0.007768</td>\n",
       "      <td>-0.002673</td>\n",
       "      <td>0.001024</td>\n",
       "      <td>-0.046672</td>\n",
       "      <td>-0.053095</td>\n",
       "      <td>0.000729</td>\n",
       "      <td>-0.012296</td>\n",
       "      <td>-0.005973</td>\n",
       "      <td>0.154726</td>\n",
       "      <td>...</td>\n",
       "      <td>0.000476</td>\n",
       "      <td>-0.046780</td>\n",
       "      <td>-0.046532</td>\n",
       "      <td>-0.001050</td>\n",
       "      <td>-0.052721</td>\n",
       "      <td>-0.013244</td>\n",
       "      <td>0.001059</td>\n",
       "      <td>-0.009682</td>\n",
       "      <td>-0.012198</td>\n",
       "      <td>-0.002818</td>\n",
       "    </tr>\n",
       "    <tr>\n",
       "      <th>TaxiOut</th>\n",
       "      <td>NaN</td>\n",
       "      <td>-0.014431</td>\n",
       "      <td>-0.002481</td>\n",
       "      <td>-0.005622</td>\n",
       "      <td>0.051667</td>\n",
       "      <td>0.041380</td>\n",
       "      <td>0.043943</td>\n",
       "      <td>0.060474</td>\n",
       "      <td>0.002628</td>\n",
       "      <td>0.264840</td>\n",
       "      <td>...</td>\n",
       "      <td>-0.008832</td>\n",
       "      <td>-0.097731</td>\n",
       "      <td>0.051535</td>\n",
       "      <td>0.000526</td>\n",
       "      <td>0.041541</td>\n",
       "      <td>-0.001402</td>\n",
       "      <td>0.043886</td>\n",
       "      <td>0.001425</td>\n",
       "      <td>0.059814</td>\n",
       "      <td>0.018710</td>\n",
       "    </tr>\n",
       "    <tr>\n",
       "      <th>Cancelled</th>\n",
       "      <td>NaN</td>\n",
       "      <td>0.019871</td>\n",
       "      <td>-0.003236</td>\n",
       "      <td>0.000527</td>\n",
       "      <td>0.005252</td>\n",
       "      <td>0.005443</td>\n",
       "      <td>NaN</td>\n",
       "      <td>-0.000509</td>\n",
       "      <td>0.017384</td>\n",
       "      <td>NaN</td>\n",
       "      <td>...</td>\n",
       "      <td>NaN</td>\n",
       "      <td>NaN</td>\n",
       "      <td>0.005084</td>\n",
       "      <td>0.004247</td>\n",
       "      <td>0.005426</td>\n",
       "      <td>0.000811</td>\n",
       "      <td>NaN</td>\n",
       "      <td>NaN</td>\n",
       "      <td>-0.000505</td>\n",
       "      <td>-0.000116</td>\n",
       "    </tr>\n",
       "    <tr>\n",
       "      <th>Diverted</th>\n",
       "      <td>NaN</td>\n",
       "      <td>0.000721</td>\n",
       "      <td>0.002144</td>\n",
       "      <td>0.004786</td>\n",
       "      <td>0.005604</td>\n",
       "      <td>0.003134</td>\n",
       "      <td>-0.008939</td>\n",
       "      <td>0.013562</td>\n",
       "      <td>-0.003012</td>\n",
       "      <td>NaN</td>\n",
       "      <td>...</td>\n",
       "      <td>NaN</td>\n",
       "      <td>NaN</td>\n",
       "      <td>0.005684</td>\n",
       "      <td>-0.002487</td>\n",
       "      <td>0.003163</td>\n",
       "      <td>-0.000544</td>\n",
       "      <td>-0.009086</td>\n",
       "      <td>0.004349</td>\n",
       "      <td>0.013582</td>\n",
       "      <td>-0.000412</td>\n",
       "    </tr>\n",
       "    <tr>\n",
       "      <th>CarrierDelay</th>\n",
       "      <td>NaN</td>\n",
       "      <td>-0.008286</td>\n",
       "      <td>0.008789</td>\n",
       "      <td>0.015026</td>\n",
       "      <td>-0.016268</td>\n",
       "      <td>-0.074655</td>\n",
       "      <td>-0.072715</td>\n",
       "      <td>-0.067620</td>\n",
       "      <td>0.076525</td>\n",
       "      <td>-0.039599</td>\n",
       "      <td>...</td>\n",
       "      <td>-0.013359</td>\n",
       "      <td>-0.139685</td>\n",
       "      <td>-0.015873</td>\n",
       "      <td>-0.010054</td>\n",
       "      <td>-0.073943</td>\n",
       "      <td>-0.020738</td>\n",
       "      <td>-0.073006</td>\n",
       "      <td>0.008268</td>\n",
       "      <td>-0.067815</td>\n",
       "      <td>0.003963</td>\n",
       "    </tr>\n",
       "    <tr>\n",
       "      <th>WeatherDelay</th>\n",
       "      <td>NaN</td>\n",
       "      <td>0.017684</td>\n",
       "      <td>0.002709</td>\n",
       "      <td>-0.012198</td>\n",
       "      <td>0.021819</td>\n",
       "      <td>0.007389</td>\n",
       "      <td>-0.042868</td>\n",
       "      <td>0.015964</td>\n",
       "      <td>0.060002</td>\n",
       "      <td>-0.011799</td>\n",
       "      <td>...</td>\n",
       "      <td>-0.006283</td>\n",
       "      <td>-0.039146</td>\n",
       "      <td>0.021972</td>\n",
       "      <td>-0.005184</td>\n",
       "      <td>0.007648</td>\n",
       "      <td>-0.006072</td>\n",
       "      <td>-0.043228</td>\n",
       "      <td>0.011214</td>\n",
       "      <td>0.015905</td>\n",
       "      <td>0.001877</td>\n",
       "    </tr>\n",
       "    <tr>\n",
       "      <th>NASDelay</th>\n",
       "      <td>NaN</td>\n",
       "      <td>0.000651</td>\n",
       "      <td>0.008594</td>\n",
       "      <td>0.000053</td>\n",
       "      <td>-0.004131</td>\n",
       "      <td>-0.040319</td>\n",
       "      <td>0.022458</td>\n",
       "      <td>-0.004005</td>\n",
       "      <td>0.013833</td>\n",
       "      <td>0.183883</td>\n",
       "      <td>...</td>\n",
       "      <td>-0.012667</td>\n",
       "      <td>-0.142288</td>\n",
       "      <td>-0.004054</td>\n",
       "      <td>-0.001930</td>\n",
       "      <td>-0.039952</td>\n",
       "      <td>-0.010783</td>\n",
       "      <td>0.022341</td>\n",
       "      <td>0.004407</td>\n",
       "      <td>-0.004435</td>\n",
       "      <td>0.011456</td>\n",
       "    </tr>\n",
       "    <tr>\n",
       "      <th>SecurityDelay</th>\n",
       "      <td>NaN</td>\n",
       "      <td>0.008620</td>\n",
       "      <td>-0.007752</td>\n",
       "      <td>0.005031</td>\n",
       "      <td>-0.007735</td>\n",
       "      <td>-0.012709</td>\n",
       "      <td>-0.002509</td>\n",
       "      <td>-0.013597</td>\n",
       "      <td>0.009387</td>\n",
       "      <td>0.002250</td>\n",
       "      <td>...</td>\n",
       "      <td>1.000000</td>\n",
       "      <td>-0.013749</td>\n",
       "      <td>-0.007682</td>\n",
       "      <td>-0.001091</td>\n",
       "      <td>-0.012255</td>\n",
       "      <td>-0.011749</td>\n",
       "      <td>-0.002659</td>\n",
       "      <td>0.004993</td>\n",
       "      <td>-0.013556</td>\n",
       "      <td>-0.001348</td>\n",
       "    </tr>\n",
       "    <tr>\n",
       "      <th>LateAircraftDelay</th>\n",
       "      <td>NaN</td>\n",
       "      <td>0.017445</td>\n",
       "      <td>0.009641</td>\n",
       "      <td>0.007566</td>\n",
       "      <td>0.206491</td>\n",
       "      <td>0.195502</td>\n",
       "      <td>-0.002574</td>\n",
       "      <td>0.151321</td>\n",
       "      <td>-0.022415</td>\n",
       "      <td>-0.085353</td>\n",
       "      <td>...</td>\n",
       "      <td>-0.013749</td>\n",
       "      <td>1.000000</td>\n",
       "      <td>0.205894</td>\n",
       "      <td>0.006873</td>\n",
       "      <td>0.194631</td>\n",
       "      <td>0.029836</td>\n",
       "      <td>-0.002913</td>\n",
       "      <td>0.011328</td>\n",
       "      <td>0.150937</td>\n",
       "      <td>0.013136</td>\n",
       "    </tr>\n",
       "    <tr>\n",
       "      <th>DepTime_Hour</th>\n",
       "      <td>NaN</td>\n",
       "      <td>-0.008803</td>\n",
       "      <td>0.001605</td>\n",
       "      <td>0.005866</td>\n",
       "      <td>0.999319</td>\n",
       "      <td>0.960531</td>\n",
       "      <td>0.707376</td>\n",
       "      <td>0.788642</td>\n",
       "      <td>-0.003754</td>\n",
       "      <td>-0.017290</td>\n",
       "      <td>...</td>\n",
       "      <td>-0.007682</td>\n",
       "      <td>0.205894</td>\n",
       "      <td>1.000000</td>\n",
       "      <td>-0.077192</td>\n",
       "      <td>0.959597</td>\n",
       "      <td>0.088525</td>\n",
       "      <td>0.706969</td>\n",
       "      <td>0.008245</td>\n",
       "      <td>0.787868</td>\n",
       "      <td>0.028640</td>\n",
       "    </tr>\n",
       "    <tr>\n",
       "      <th>DepTime_Minute</th>\n",
       "      <td>NaN</td>\n",
       "      <td>0.002405</td>\n",
       "      <td>0.006268</td>\n",
       "      <td>-0.000551</td>\n",
       "      <td>-0.040352</td>\n",
       "      <td>-0.026992</td>\n",
       "      <td>-0.018849</td>\n",
       "      <td>-0.018868</td>\n",
       "      <td>-0.006509</td>\n",
       "      <td>0.000991</td>\n",
       "      <td>...</td>\n",
       "      <td>-0.001091</td>\n",
       "      <td>0.006873</td>\n",
       "      <td>-0.077192</td>\n",
       "      <td>1.000000</td>\n",
       "      <td>-0.036923</td>\n",
       "      <td>0.255442</td>\n",
       "      <td>-0.019308</td>\n",
       "      <td>0.013563</td>\n",
       "      <td>-0.018996</td>\n",
       "      <td>0.003356</td>\n",
       "    </tr>\n",
       "    <tr>\n",
       "      <th>CRSDepTime_Hour</th>\n",
       "      <td>NaN</td>\n",
       "      <td>-0.006727</td>\n",
       "      <td>0.002206</td>\n",
       "      <td>0.005484</td>\n",
       "      <td>0.960319</td>\n",
       "      <td>0.999260</td>\n",
       "      <td>0.685880</td>\n",
       "      <td>0.786698</td>\n",
       "      <td>-0.011477</td>\n",
       "      <td>-0.016923</td>\n",
       "      <td>...</td>\n",
       "      <td>-0.012255</td>\n",
       "      <td>0.194631</td>\n",
       "      <td>0.959597</td>\n",
       "      <td>-0.036923</td>\n",
       "      <td>1.000000</td>\n",
       "      <td>0.047769</td>\n",
       "      <td>0.685465</td>\n",
       "      <td>0.008590</td>\n",
       "      <td>0.785941</td>\n",
       "      <td>0.028171</td>\n",
       "    </tr>\n",
       "    <tr>\n",
       "      <th>CRSDepTime_Minute</th>\n",
       "      <td>NaN</td>\n",
       "      <td>0.011477</td>\n",
       "      <td>-0.000784</td>\n",
       "      <td>-0.000623</td>\n",
       "      <td>0.098171</td>\n",
       "      <td>0.086152</td>\n",
       "      <td>0.079671</td>\n",
       "      <td>0.084561</td>\n",
       "      <td>-0.002824</td>\n",
       "      <td>0.009981</td>\n",
       "      <td>...</td>\n",
       "      <td>-0.011749</td>\n",
       "      <td>0.029836</td>\n",
       "      <td>0.088525</td>\n",
       "      <td>0.255442</td>\n",
       "      <td>0.047769</td>\n",
       "      <td>1.000000</td>\n",
       "      <td>0.079174</td>\n",
       "      <td>0.014155</td>\n",
       "      <td>0.083759</td>\n",
       "      <td>0.022834</td>\n",
       "    </tr>\n",
       "    <tr>\n",
       "      <th>ArrTime_Hour</th>\n",
       "      <td>NaN</td>\n",
       "      <td>-0.002887</td>\n",
       "      <td>-0.001435</td>\n",
       "      <td>0.005762</td>\n",
       "      <td>0.707787</td>\n",
       "      <td>0.686742</td>\n",
       "      <td>0.999417</td>\n",
       "      <td>0.852298</td>\n",
       "      <td>-0.019202</td>\n",
       "      <td>0.033067</td>\n",
       "      <td>...</td>\n",
       "      <td>-0.002659</td>\n",
       "      <td>-0.002913</td>\n",
       "      <td>0.706969</td>\n",
       "      <td>-0.019308</td>\n",
       "      <td>0.685465</td>\n",
       "      <td>0.079174</td>\n",
       "      <td>1.000000</td>\n",
       "      <td>-0.022279</td>\n",
       "      <td>0.852284</td>\n",
       "      <td>0.008675</td>\n",
       "    </tr>\n",
       "    <tr>\n",
       "      <th>ArrTime_Minute</th>\n",
       "      <td>NaN</td>\n",
       "      <td>-0.001491</td>\n",
       "      <td>-0.006125</td>\n",
       "      <td>-0.000901</td>\n",
       "      <td>0.008765</td>\n",
       "      <td>0.009113</td>\n",
       "      <td>0.011869</td>\n",
       "      <td>0.007626</td>\n",
       "      <td>0.001697</td>\n",
       "      <td>0.000021</td>\n",
       "      <td>...</td>\n",
       "      <td>0.004993</td>\n",
       "      <td>0.011328</td>\n",
       "      <td>0.008245</td>\n",
       "      <td>0.013563</td>\n",
       "      <td>0.008590</td>\n",
       "      <td>0.014155</td>\n",
       "      <td>-0.022279</td>\n",
       "      <td>1.000000</td>\n",
       "      <td>0.001164</td>\n",
       "      <td>0.177660</td>\n",
       "    </tr>\n",
       "    <tr>\n",
       "      <th>CRSArrTime_Hour</th>\n",
       "      <td>NaN</td>\n",
       "      <td>0.002805</td>\n",
       "      <td>0.000708</td>\n",
       "      <td>0.006235</td>\n",
       "      <td>0.788879</td>\n",
       "      <td>0.787139</td>\n",
       "      <td>0.852475</td>\n",
       "      <td>0.999338</td>\n",
       "      <td>-0.031454</td>\n",
       "      <td>0.052552</td>\n",
       "      <td>...</td>\n",
       "      <td>-0.013556</td>\n",
       "      <td>0.150937</td>\n",
       "      <td>0.787868</td>\n",
       "      <td>-0.018996</td>\n",
       "      <td>0.785941</td>\n",
       "      <td>0.083759</td>\n",
       "      <td>0.852284</td>\n",
       "      <td>0.001164</td>\n",
       "      <td>1.000000</td>\n",
       "      <td>-0.008834</td>\n",
       "    </tr>\n",
       "    <tr>\n",
       "      <th>CRSArrTime_Minute</th>\n",
       "      <td>NaN</td>\n",
       "      <td>-0.005353</td>\n",
       "      <td>0.001285</td>\n",
       "      <td>0.000784</td>\n",
       "      <td>0.028827</td>\n",
       "      <td>0.028978</td>\n",
       "      <td>0.014744</td>\n",
       "      <td>0.027539</td>\n",
       "      <td>0.018267</td>\n",
       "      <td>0.005242</td>\n",
       "      <td>...</td>\n",
       "      <td>-0.001348</td>\n",
       "      <td>0.013136</td>\n",
       "      <td>0.028640</td>\n",
       "      <td>0.003356</td>\n",
       "      <td>0.028171</td>\n",
       "      <td>0.022834</td>\n",
       "      <td>0.008675</td>\n",
       "      <td>0.177660</td>\n",
       "      <td>-0.008834</td>\n",
       "      <td>1.000000</td>\n",
       "    </tr>\n",
       "  </tbody>\n",
       "</table>\n",
       "<p>31 rows × 31 columns</p>\n",
       "</div>"
      ],
      "text/plain": [
       "                   Year     Month  DayofMonth  DayOfWeek   DepTime  \\\n",
       "Year                NaN       NaN         NaN        NaN       NaN   \n",
       "Month               NaN  1.000000   -0.004838  -0.010617 -0.008733   \n",
       "DayofMonth          NaN -0.004838    1.000000   0.015818  0.001841   \n",
       "DayOfWeek           NaN -0.010617    0.015818   1.000000  0.005859   \n",
       "DepTime             NaN -0.008733    0.001841   0.005859  1.000000   \n",
       "CRSDepTime          NaN -0.006267    0.002170   0.005446  0.961622   \n",
       "ArrTime             NaN -0.002939   -0.001645   0.005732  0.708212   \n",
       "CRSArrTime          NaN  0.002609    0.000754   0.006262  0.789659   \n",
       "FlightNum           NaN  0.006598    0.009847  -0.005878 -0.004003   \n",
       "ActualElapsedTime   NaN -0.014230   -0.008110   0.010330 -0.017291   \n",
       "CRSElapsedTime      NaN -0.005765   -0.007024   0.013325 -0.014580   \n",
       "AirTime             NaN -0.012840   -0.007842   0.011541 -0.023192   \n",
       "ArrDelay            NaN -0.041950    0.006479   0.002943  0.181349   \n",
       "Distance            NaN -0.006289   -0.007196   0.014755 -0.016961   \n",
       "TaxiIn              NaN  0.007768   -0.002673   0.001024 -0.046672   \n",
       "TaxiOut             NaN -0.014431   -0.002481  -0.005622  0.051667   \n",
       "Cancelled           NaN  0.019871   -0.003236   0.000527  0.005252   \n",
       "Diverted            NaN  0.000721    0.002144   0.004786  0.005604   \n",
       "CarrierDelay        NaN -0.008286    0.008789   0.015026 -0.016268   \n",
       "WeatherDelay        NaN  0.017684    0.002709  -0.012198  0.021819   \n",
       "NASDelay            NaN  0.000651    0.008594   0.000053 -0.004131   \n",
       "SecurityDelay       NaN  0.008620   -0.007752   0.005031 -0.007735   \n",
       "LateAircraftDelay   NaN  0.017445    0.009641   0.007566  0.206491   \n",
       "DepTime_Hour        NaN -0.008803    0.001605   0.005866  0.999319   \n",
       "DepTime_Minute      NaN  0.002405    0.006268  -0.000551 -0.040352   \n",
       "CRSDepTime_Hour     NaN -0.006727    0.002206   0.005484  0.960319   \n",
       "CRSDepTime_Minute   NaN  0.011477   -0.000784  -0.000623  0.098171   \n",
       "ArrTime_Hour        NaN -0.002887   -0.001435   0.005762  0.707787   \n",
       "ArrTime_Minute      NaN -0.001491   -0.006125  -0.000901  0.008765   \n",
       "CRSArrTime_Hour     NaN  0.002805    0.000708   0.006235  0.788879   \n",
       "CRSArrTime_Minute   NaN -0.005353    0.001285   0.000784  0.028827   \n",
       "\n",
       "                   CRSDepTime   ArrTime  CRSArrTime  FlightNum  \\\n",
       "Year                      NaN       NaN         NaN        NaN   \n",
       "Month               -0.006267 -0.002939    0.002609   0.006598   \n",
       "DayofMonth           0.002170 -0.001645    0.000754   0.009847   \n",
       "DayOfWeek            0.005446  0.005732    0.006262  -0.005878   \n",
       "DepTime              0.961622  0.708212    0.789659  -0.004003   \n",
       "CRSDepTime           1.000000  0.687175    0.787925  -0.011556   \n",
       "ArrTime              0.687175  1.000000    0.852710  -0.019147   \n",
       "CRSArrTime           0.787925  0.852710    1.000000  -0.030779   \n",
       "FlightNum           -0.011556 -0.019147   -0.030779   1.000000   \n",
       "ActualElapsedTime   -0.016495  0.033074    0.052724  -0.324021   \n",
       "CRSElapsedTime      -0.011475  0.034241    0.058481  -0.331409   \n",
       "AirTime             -0.020196  0.026768    0.045657  -0.336906   \n",
       "ArrDelay             0.120016  0.062730    0.116258   0.027777   \n",
       "Distance            -0.011314  0.024735    0.047824  -0.350380   \n",
       "TaxiIn              -0.053095  0.000729   -0.012296  -0.005973   \n",
       "TaxiOut              0.041380  0.043943    0.060474   0.002628   \n",
       "Cancelled            0.005443       NaN   -0.000509   0.017384   \n",
       "Diverted             0.003134 -0.008939    0.013562  -0.003012   \n",
       "CarrierDelay        -0.074655 -0.072715   -0.067620   0.076525   \n",
       "WeatherDelay         0.007389 -0.042868    0.015964   0.060002   \n",
       "NASDelay            -0.040319  0.022458   -0.004005   0.013833   \n",
       "SecurityDelay       -0.012709 -0.002509   -0.013597   0.009387   \n",
       "LateAircraftDelay    0.195502 -0.002574    0.151321  -0.022415   \n",
       "DepTime_Hour         0.960531  0.707376    0.788642  -0.003754   \n",
       "DepTime_Minute      -0.026992 -0.018849   -0.018868  -0.006509   \n",
       "CRSDepTime_Hour      0.999260  0.685880    0.786698  -0.011477   \n",
       "CRSDepTime_Minute    0.086152  0.079671    0.084561  -0.002824   \n",
       "ArrTime_Hour         0.686742  0.999417    0.852298  -0.019202   \n",
       "ArrTime_Minute       0.009113  0.011869    0.007626   0.001697   \n",
       "CRSArrTime_Hour      0.787139  0.852475    0.999338  -0.031454   \n",
       "CRSArrTime_Minute    0.028978  0.014744    0.027539   0.018267   \n",
       "\n",
       "                   ActualElapsedTime  ...  SecurityDelay  LateAircraftDelay  \\\n",
       "Year                             NaN  ...            NaN                NaN   \n",
       "Month                      -0.014230  ...       0.008620           0.017445   \n",
       "DayofMonth                 -0.008110  ...      -0.007752           0.009641   \n",
       "DayOfWeek                   0.010330  ...       0.005031           0.007566   \n",
       "DepTime                    -0.017291  ...      -0.007735           0.206491   \n",
       "CRSDepTime                 -0.016495  ...      -0.012709           0.195502   \n",
       "ArrTime                     0.033074  ...      -0.002509          -0.002574   \n",
       "CRSArrTime                  0.052724  ...      -0.013597           0.151321   \n",
       "FlightNum                  -0.324021  ...       0.009387          -0.022415   \n",
       "ActualElapsedTime           1.000000  ...       0.002250          -0.085353   \n",
       "CRSElapsedTime              0.979979  ...       0.003952          -0.041558   \n",
       "AirTime                     0.984401  ...       0.004590          -0.060884   \n",
       "ArrDelay                    0.089451  ...       0.008990           0.509705   \n",
       "Distance                    0.965089  ...       0.006950          -0.037445   \n",
       "TaxiIn                      0.154726  ...       0.000476          -0.046780   \n",
       "TaxiOut                     0.264840  ...      -0.008832          -0.097731   \n",
       "Cancelled                        NaN  ...            NaN                NaN   \n",
       "Diverted                         NaN  ...            NaN                NaN   \n",
       "CarrierDelay               -0.039599  ...      -0.013359          -0.139685   \n",
       "WeatherDelay               -0.011799  ...      -0.006283          -0.039146   \n",
       "NASDelay                    0.183883  ...      -0.012667          -0.142288   \n",
       "SecurityDelay               0.002250  ...       1.000000          -0.013749   \n",
       "LateAircraftDelay          -0.085353  ...      -0.013749           1.000000   \n",
       "DepTime_Hour               -0.017290  ...      -0.007682           0.205894   \n",
       "DepTime_Minute              0.000991  ...      -0.001091           0.006873   \n",
       "CRSDepTime_Hour            -0.016923  ...      -0.012255           0.194631   \n",
       "CRSDepTime_Minute           0.009981  ...      -0.011749           0.029836   \n",
       "ArrTime_Hour                0.033067  ...      -0.002659          -0.002913   \n",
       "ArrTime_Minute              0.000021  ...       0.004993           0.011328   \n",
       "CRSArrTime_Hour             0.052552  ...      -0.013556           0.150937   \n",
       "CRSArrTime_Minute           0.005242  ...      -0.001348           0.013136   \n",
       "\n",
       "                   DepTime_Hour  DepTime_Minute  CRSDepTime_Hour  \\\n",
       "Year                        NaN             NaN              NaN   \n",
       "Month                 -0.008803        0.002405        -0.006727   \n",
       "DayofMonth             0.001605        0.006268         0.002206   \n",
       "DayOfWeek              0.005866       -0.000551         0.005484   \n",
       "DepTime                0.999319       -0.040352         0.960319   \n",
       "CRSDepTime             0.960531       -0.026992         0.999260   \n",
       "ArrTime                0.707376       -0.018849         0.685880   \n",
       "CRSArrTime             0.788642       -0.018868         0.786698   \n",
       "FlightNum             -0.003754       -0.006509        -0.011477   \n",
       "ActualElapsedTime     -0.017290        0.000991        -0.016923   \n",
       "CRSElapsedTime        -0.014587        0.001035        -0.011965   \n",
       "AirTime               -0.023179        0.001006        -0.020695   \n",
       "ArrDelay               0.181565       -0.016460         0.119652   \n",
       "Distance              -0.016906       -0.000497        -0.011925   \n",
       "TaxiIn                -0.046532       -0.001050        -0.052721   \n",
       "TaxiOut                0.051535        0.000526         0.041541   \n",
       "Cancelled              0.005084        0.004247         0.005426   \n",
       "Diverted               0.005684       -0.002487         0.003163   \n",
       "CarrierDelay          -0.015873       -0.010054        -0.073943   \n",
       "WeatherDelay           0.021972       -0.005184         0.007648   \n",
       "NASDelay              -0.004054       -0.001930        -0.039952   \n",
       "SecurityDelay         -0.007682       -0.001091        -0.012255   \n",
       "LateAircraftDelay      0.205894        0.006873         0.194631   \n",
       "DepTime_Hour           1.000000       -0.077192         0.959597   \n",
       "DepTime_Minute        -0.077192        1.000000        -0.036923   \n",
       "CRSDepTime_Hour        0.959597       -0.036923         1.000000   \n",
       "CRSDepTime_Minute      0.088525        0.255442         0.047769   \n",
       "ArrTime_Hour           0.706969       -0.019308         0.685465   \n",
       "ArrTime_Minute         0.008245        0.013563         0.008590   \n",
       "CRSArrTime_Hour        0.787868       -0.018996         0.785941   \n",
       "CRSArrTime_Minute      0.028640        0.003356         0.028171   \n",
       "\n",
       "                   CRSDepTime_Minute  ArrTime_Hour  ArrTime_Minute  \\\n",
       "Year                             NaN           NaN             NaN   \n",
       "Month                       0.011477     -0.002887       -0.001491   \n",
       "DayofMonth                 -0.000784     -0.001435       -0.006125   \n",
       "DayOfWeek                  -0.000623      0.005762       -0.000901   \n",
       "DepTime                     0.098171      0.707787        0.008765   \n",
       "CRSDepTime                  0.086152      0.686742        0.009113   \n",
       "ArrTime                     0.079671      0.999417        0.011869   \n",
       "CRSArrTime                  0.084561      0.852298        0.007626   \n",
       "FlightNum                  -0.002824     -0.019202        0.001697   \n",
       "ActualElapsedTime           0.009981      0.033067        0.000021   \n",
       "CRSElapsedTime              0.011929      0.034166        0.002003   \n",
       "AirTime                     0.011579      0.026744        0.000545   \n",
       "ArrDelay                    0.017466      0.062637        0.002412   \n",
       "Distance                    0.015068      0.024635        0.002774   \n",
       "TaxiIn                     -0.013244      0.001059       -0.009682   \n",
       "TaxiOut                    -0.001402      0.043886        0.001425   \n",
       "Cancelled                   0.000811           NaN             NaN   \n",
       "Diverted                   -0.000544     -0.009086        0.004349   \n",
       "CarrierDelay               -0.020738     -0.073006        0.008268   \n",
       "WeatherDelay               -0.006072     -0.043228        0.011214   \n",
       "NASDelay                   -0.010783      0.022341        0.004407   \n",
       "SecurityDelay              -0.011749     -0.002659        0.004993   \n",
       "LateAircraftDelay           0.029836     -0.002913        0.011328   \n",
       "DepTime_Hour                0.088525      0.706969        0.008245   \n",
       "DepTime_Minute              0.255442     -0.019308        0.013563   \n",
       "CRSDepTime_Hour             0.047769      0.685465        0.008590   \n",
       "CRSDepTime_Minute           1.000000      0.079174        0.014155   \n",
       "ArrTime_Hour                0.079174      1.000000       -0.022279   \n",
       "ArrTime_Minute              0.014155     -0.022279        1.000000   \n",
       "CRSArrTime_Hour             0.083759      0.852284        0.001164   \n",
       "CRSArrTime_Minute           0.022834      0.008675        0.177660   \n",
       "\n",
       "                   CRSArrTime_Hour  CRSArrTime_Minute  \n",
       "Year                           NaN                NaN  \n",
       "Month                     0.002805          -0.005353  \n",
       "DayofMonth                0.000708           0.001285  \n",
       "DayOfWeek                 0.006235           0.000784  \n",
       "DepTime                   0.788879           0.028827  \n",
       "CRSDepTime                0.787139           0.028978  \n",
       "ArrTime                   0.852475           0.014744  \n",
       "CRSArrTime                0.999338           0.027539  \n",
       "FlightNum                -0.031454           0.018267  \n",
       "ActualElapsedTime         0.052552           0.005242  \n",
       "CRSElapsedTime            0.058308           0.005302  \n",
       "AirTime                   0.045576           0.002669  \n",
       "ArrDelay                  0.115969           0.009064  \n",
       "Distance                  0.047643           0.005432  \n",
       "TaxiIn                   -0.012198          -0.002818  \n",
       "TaxiOut                   0.059814           0.018710  \n",
       "Cancelled                -0.000505          -0.000116  \n",
       "Diverted                  0.013582          -0.000412  \n",
       "CarrierDelay             -0.067815           0.003963  \n",
       "WeatherDelay              0.015905           0.001877  \n",
       "NASDelay                 -0.004435           0.011456  \n",
       "SecurityDelay            -0.013556          -0.001348  \n",
       "LateAircraftDelay         0.150937           0.013136  \n",
       "DepTime_Hour              0.787868           0.028640  \n",
       "DepTime_Minute           -0.018996           0.003356  \n",
       "CRSDepTime_Hour           0.785941           0.028171  \n",
       "CRSDepTime_Minute         0.083759           0.022834  \n",
       "ArrTime_Hour              0.852284           0.008675  \n",
       "ArrTime_Minute            0.001164           0.177660  \n",
       "CRSArrTime_Hour           1.000000          -0.008834  \n",
       "CRSArrTime_Minute        -0.008834           1.000000  \n",
       "\n",
       "[31 rows x 31 columns]"
      ]
     },
     "execution_count": 89,
     "metadata": {},
     "output_type": "execute_result"
    }
   ],
   "source": [
    "data.corr()"
   ]
  },
  {
   "cell_type": "code",
   "execution_count": 97,
   "metadata": {},
   "outputs": [
    {
     "data": {
      "image/png": "[encoded data removed]",
      "text/plain": [
       "<Figure size 1080x1080 with 2 Axes>"
      ]
     },
     "metadata": {
      "needs_background": "light"
     },
     "output_type": "display_data"
    }
   ],
   "source": [
    "import numpy as np\n",
    "import pandas as pd\n",
    "import seaborn as sns\n",
    "import matplotlib.pyplot as plt\n",
    "from scipy.stats import norm\n",
    "data_new = pd.read_csv('2008.csv') \n",
    "corrmat = data_new.corr() \n",
    "\n",
    "f, ax = plt.subplots(figsize =(15,15))\n",
    "sns.heatmap(corrmat, annot=True, fmt=\".2f\", square=True, linewidths=.5,  ax=ax)\n",
    "corr_DepDelay = corrmat.loc['DepDelay',:] \n",
    "\n",
    "\n"
   ]
  },
  {
   "cell_type": "code",
   "execution_count": 99,
   "metadata": {},
   "outputs": [
    {
     "data": {
      "text/plain": [
       "ArrDelay             0.930046\n",
       "DepDelay             1.000000\n",
       "CarrierDelay         0.535580\n",
       "LateAircraftDelay    0.558168\n",
       "Name: DepDelay, dtype: float64"
      ]
     },
     "execution_count": 99,
     "metadata": {},
     "output_type": "execute_result"
    }
   ],
   "source": [
    "corr_DepDelay[corr_DepDelay >= 0.5]"
   ]
  },
  {
   "cell_type": "code",
   "execution_count": 100,
   "metadata": {},
   "outputs": [
    {
     "data": {
      "text/plain": [
       "(63404, 30)"
      ]
     },
     "execution_count": 100,
     "metadata": {},
     "output_type": "execute_result"
    }
   ],
   "source": [
    "#Исключаем признаки, оказывающуие значимое влияние на прогноз\n",
    "data.drop(['ArrDelay','CarrierDelay','LateAircraftDelay'], axis = 1, inplace = True)\n",
    "#Исключаем признаки, сильно коррелирующие с ответами\n",
    "data.drop(['CRSElapsedTime','ActualElapsedTime','AirTime'], axis = 1, inplace = True)\n",
    "data.shape"
   ]
  },
  {
   "cell_type": "code",
   "execution_count": 101,
   "metadata": {},
   "outputs": [
    {
     "data": {
      "text/plain": [
       "(63404, 28)"
      ]
     },
     "execution_count": 101,
     "metadata": {},
     "output_type": "execute_result"
    }
   ],
   "source": [
    "#Исключаем признаки TailNum и Year\n",
    "data.drop(['TailNum','Year'], axis = 1, inplace = True)\n",
    "data.shape"
   ]
  },
  {
   "cell_type": "markdown",
   "metadata": {},
   "source": [
    "**15. (1 балл)** Приведем данные к виду, пригодному для обучения линейных моделей. Для этого вещественные признаки надо отмасштабировать, а категориальные — привести к числовому виду. Также надо устранить пропуски в данных."
   ]
  },
  {
   "cell_type": "markdown",
   "metadata": {},
   "source": [
    "В первую очередь поймем, зачем необходимо применять масштабирование. Следующие ячейки с кодом построят гистограммы для 3 вещественных признаков выборки."
   ]
  },
  {
   "cell_type": "code",
   "execution_count": 19,
   "metadata": {
    "scrolled": true
   },
   "outputs": [
    {
     "data": {
      "text/plain": [
       "<matplotlib.axes._subplots.AxesSubplot at 0x93555c8>"
      ]
     },
     "execution_count": 19,
     "metadata": {},
     "output_type": "execute_result"
    },
    {
     "data": {
      "image/png": "[encoded data removed]",
      "text/plain": [
       "<Figure size 432x288 with 1 Axes>"
      ]
     },
     "metadata": {
      "needs_background": "light"
     },
     "output_type": "display_data"
    }
   ],
   "source": [
    "data['DepTime_Hour'].hist(bins=20)"
   ]
  },
  {
   "cell_type": "code",
   "execution_count": 20,
   "metadata": {},
   "outputs": [
    {
     "data": {
      "text/plain": [
       "<matplotlib.axes._subplots.AxesSubplot at 0x105b9808>"
      ]
     },
     "execution_count": 20,
     "metadata": {},
     "output_type": "execute_result"
    },
    {
     "data": {
      "image/png": "[encoded data removed]",
      "text/plain": [
       "<Figure size 432x288 with 1 Axes>"
      ]
     },
     "metadata": {
      "needs_background": "light"
     },
     "output_type": "display_data"
    }
   ],
   "source": [
    "data['TaxiIn'].hist(bins=20)"
   ]
  },
  {
   "cell_type": "code",
   "execution_count": 21,
   "metadata": {},
   "outputs": [
    {
     "data": {
      "text/plain": [
       "<matplotlib.axes._subplots.AxesSubplot at 0x982dd48>"
      ]
     },
     "execution_count": 21,
     "metadata": {},
     "output_type": "execute_result"
    },
    {
     "data": {
      "image/png": "[encoded data removed]",
      "text/plain": [
       "<Figure size 432x288 with 1 Axes>"
      ]
     },
     "metadata": {
      "needs_background": "light"
     },
     "output_type": "display_data"
    }
   ],
   "source": [
    "data['FlightNum'].hist(bins=20)"
   ]
  },
  {
   "cell_type": "markdown",
   "metadata": {},
   "source": [
    "Какую проблему вы наблюдаете на этих графиках? Как масштабирование поможет её исправить?"
   ]
  },
  {
   "cell_type": "raw",
   "metadata": {},
   "source": [
    "Данные графики невожможно сравнить, так как используется разная размерность. масштабирование позвилит привести данные к единому виду."
   ]
  },
  {
   "cell_type": "markdown",
   "metadata": {},
   "source": [
    "Некоторые из признаков в нашем датасете являются категориальными. Типичным подходом к работе с ними является бинарное, или [one-hot-кодирование](https://en.wikipedia.org/wiki/One-hot).\n",
    "\n",
    "Реализуйте функцию transform_data, которая принимает на вход DataFrame с признаками и выполняет следующие шаги:\n",
    "1. Замена пропущенных значений на нули для вещественных признаков и на строки 'nan' для категориальных.\n",
    "2. Масштабирование вещественных признаков с помощью [StandardScaler](http://scikit-learn.org/stable/modules/generated/sklearn.preprocessing.StandardScaler.html).\n",
    "3. One-hot-кодирование категориальных признаков с помощью [DictVectorizer](http://scikit-learn.org/stable/modules/generated/sklearn.feature_extraction.DictVectorizer.html) или функции [pd.get_dummies](http://pandas.pydata.org/pandas-docs/stable/generated/pandas.get_dummies.html).\n",
    "\n",
    "Метод должен возвращать преобразованный DataFrame, который должна состоять из масштабированных вещественных признаков и закодированных категориальных (исходные признаки должны быть исключены из выборки)."
   ]
  },
  {
   "cell_type": "code",
   "execution_count": 34,
   "metadata": {},
   "outputs": [],
   "source": [
    "from sklearn.preprocessing import StandardScaler\n",
    "\n",
    "def transform_data(data):\n",
    "    ss = StandardScaler()\n",
    "    for col in data.columns:\n",
    "        if data[col].dtype.name == 'object':\n",
    "            data[col].fillna('nan', inplace = True)\n",
    "        else:\n",
    "            data[col].fillna(0, inplace = True)\n",
    "            data[col]= ss.fit_transform(data[col].values.reshape(-1, 1)).flatten('F')\n",
    "    data = pd.get_dummies(data)\n",
    "    return data "
   ]
  },
  {
   "cell_type": "markdown",
   "metadata": {},
   "source": [
    "Примените функцию transform_data к данным. Сколько признаков получилось после преобразования?"
   ]
  },
  {
   "cell_type": "code",
   "execution_count": 35,
   "metadata": {},
   "outputs": [
    {
     "name": "stdout",
     "output_type": "stream",
     "text": [
      "После преобразования получилось  647  признака\n"
     ]
    }
   ],
   "source": [
    "data_transform_data=transform_data(data)\n",
    "data_transform_data.shape\n",
    "print('После преобразования получилось ', data_transform_data.shape[1], ' признака')"
   ]
  },
  {
   "cell_type": "markdown",
   "metadata": {},
   "source": [
    "**16. (0.5 балла)** Разбейте выборку и вектор целевой переменной на обучение и контроль в отношении 70/30 (для этого можно использовать, например, функцию [train_test_split](http://scikit-learn.org/stable/modules/generated/sklearn.cross_validation.train_test_split.html)). "
   ]
  },
  {
   "cell_type": "code",
   "execution_count": 39,
   "metadata": {},
   "outputs": [],
   "source": [
    "from sklearn.model_selection import train_test_split\n",
    "X_train, X_test, y_train, y_test = train_test_split(data_transform_data, vect, test_size=0.3, random_state=42)"
   ]
  },
  {
   "cell_type": "markdown",
   "metadata": {},
   "source": [
    "### Scikit-learn\n",
    "\n",
    "<img src = \"https://pp.vk.me/c4534/u35727827/93547647/x_d31c4463.jpg\">\n",
    "Теперь, когда мы привели данные к пригодному виду, попробуем решить задачу при помощи метода наименьших квадратов. Напомним, что данный метод заключается в оптимизации функционала $MSE$:\n",
    "\n",
    "$$MSE(X, y) = \\frac{1}{l} \\sum_{i=1}^l (<w, x_i> - y_i)^2 \\to \\min_{w},$$\n",
    "\n",
    "где $\\{ (x_i, y_i ) \\}_{i=1}^l$ — обучающая выборка, состоящая из $l$ пар объект-ответ.\n",
    "\n",
    "Заметим, что решение данной задачи уже реализовано в модуле sklearn в виде класса [LinearRegression](http://scikit-learn.org/stable/modules/generated/sklearn.linear_model.LinearRegression.html#sklearn.linear_model.LinearRegression).\n",
    "\n",
    "**17. (0.5 балла)** Обучите линейную регрессию на 1000 объектах из обучающей выборки и выведите значения $MSE$ и $R^2$ на этой подвыборке и контрольной выборке (итого 4 различных числа). Проинтерпретируйте полученный результат — насколько качественные прогнозы строит полученная модель? Какие проблемы наблюдаются в модели?\n",
    "\n",
    "**Подсказка**: изучите значения полученных коэффициентов $w$, сохраненных в атрибуте coef_ объекта LinearRegression."
   ]
  },
  {
   "cell_type": "code",
   "execution_count": 78,
   "metadata": {},
   "outputs": [],
   "source": [
    "from sklearn.linear_model import LinearRegression\n",
    "from sklearn.metrics import mean_squared_error \n",
    "from sklearn.metrics import r2_score\n",
    "import matplotlib.pyplot as plt"
   ]
  },
  {
   "cell_type": "code",
   "execution_count": 55,
   "metadata": {},
   "outputs": [
    {
     "name": "stdout",
     "output_type": "stream",
     "text": [
      "Train \n",
      " MSE:  2.052628326394931e-25 \n",
      " 𝑅2:  1.0 \n",
      "\n",
      "Test \n",
      " MSE:  164.6656919715722 \n",
      " 𝑅2:  0.8769010147726768\n"
     ]
    }
   ],
   "source": [
    "X_train1, y_train1 = X_train[:1000], y_train[:1000]\n",
    "LinReg = LinearRegression()\n",
    "LinReg.fit(X_train1, y_train1)\n",
    "LinReg_train = LinReg.predict(X_train1)\n",
    "LinReg_test = LinReg.predict(X_test)\n",
    "\n",
    "mse_train=mean_squared_error(y_train1, LinReg_train)\n",
    "mse_test=mean_squared_error(y_test, LinReg_test)\n",
    "\n",
    "r2_score_train=r2_score(y_train1, LinReg_train)\n",
    "r2_score_test=r2_score(y_test, LinReg_test)\n",
    "\n",
    "print('Train','\\n','MSE: ', mse_train,'\\n','𝑅2: ', r2_score_train,'\\n')\n",
    "print('Test','\\n','MSE: ', mse_test,'\\n','𝑅2: ', r2_score_test)"
   ]
  },
  {
   "cell_type": "code",
   "execution_count": 56,
   "metadata": {},
   "outputs": [
    {
     "data": {
      "text/plain": [
       "array([ 9.75272242e-15, -1.42108547e-14,  7.35522754e-14,  2.38759498e+01,\n",
       "        2.90981379e+00, -5.02778618e+01, -1.39710921e+00, -2.70894418e-13,\n",
       "       -1.94975474e+02,  6.99097706e+01,  1.19438596e+02,  3.91021852e+01,\n",
       "        3.23296945e-13,  8.60546594e+00,  2.00321596e+01,  8.07752485e+00,\n",
       "       -1.01895878e+01,  1.61648472e-13, -3.55271368e-14,  7.10542736e-14,\n",
       "       -2.94875235e-13, -1.84741111e-13, -2.39278978e+01, -8.83586605e-01,\n",
       "       -2.90230852e+00, -1.12043617e-01,  5.02682863e+01,  1.70652543e+00,\n",
       "        1.39663384e+00,  5.08121833e-02, -1.02669346e+00, -1.02669346e+00,\n",
       "        1.09656358e+00, -1.02669346e+00, -1.02669346e+00, -1.02669346e+00,\n",
       "       -1.02669346e+00, -1.02669346e+00, -1.02669346e+00, -1.02669346e+00,\n",
       "       -1.02669346e+00, -1.02669346e+00, -1.02669346e+00, -1.02669346e+00,\n",
       "       -1.02669346e+00, -1.02669346e+00, -1.02669346e+00, -1.02669346e+00,\n",
       "       -1.02669346e+00, -1.02669346e+00,  2.11531454e-01, -1.69619706e+00,\n",
       "       -1.69619706e+00, -1.69619706e+00,  2.56053582e-01, -1.93714788e-01,\n",
       "       -1.69619706e+00,  4.44286375e-02,  5.28450309e-02, -3.30429810e-01,\n",
       "        2.65657261e-01, -5.42644097e-01,  3.94181186e-01, -1.69619706e+00,\n",
       "       -2.34715630e-01, -1.86300753e-01, -1.69619706e+00, -1.69619706e+00,\n",
       "       -1.69619706e+00, -1.69619706e+00, -1.69619706e+00,  1.62405413e-01,\n",
       "        1.40572018e-01,  4.53015813e-01, -1.69619706e+00,  1.89223879e-01,\n",
       "       -1.69619706e+00,  2.31100738e-01, -4.36365731e-01, -1.69619706e+00,\n",
       "        3.24648792e-01, -2.40979924e-01, -1.71747775e-02, -6.35857037e-03,\n",
       "       -1.69619706e+00, -1.69619706e+00, -1.69619706e+00,  3.88691552e-01,\n",
       "       -1.69619706e+00,  2.03107322e-01, -2.35344907e-02, -3.63096973e-01,\n",
       "        2.46488982e-01, -5.24803558e-03, -1.69619706e+00, -1.69619706e+00,\n",
       "       -1.69619706e+00, -1.69619706e+00, -1.69619706e+00, -1.69619706e+00,\n",
       "       -1.71295135e-03,  2.58015906e-01,  3.55245469e-01, -1.69619706e+00,\n",
       "       -4.27702758e-02, -1.69619706e+00, -1.74837024e-01, -1.69619706e+00,\n",
       "       -1.69619706e+00, -1.69619706e+00, -1.69619706e+00, -1.69619706e+00,\n",
       "       -1.69619706e+00,  1.42769933e-01,  2.92790082e-01, -1.88880635e-01,\n",
       "       -1.69619706e+00,  4.72810104e-01, -1.69619706e+00, -2.58540103e-01,\n",
       "        2.11327554e-01, -1.69619706e+00,  2.12806955e-01,  1.94002500e-01,\n",
       "       -1.69619706e+00, -1.69619706e+00,  1.52584861e-01, -1.69619706e+00,\n",
       "       -1.69619706e+00, -1.69619706e+00, -1.69619706e+00, -1.69619706e+00,\n",
       "       -3.53453448e-02, -1.69619706e+00, -1.69619706e+00, -5.45647990e-03,\n",
       "       -5.09217883e-02,  1.06872606e-01, -1.69619706e+00, -7.17152453e-02,\n",
       "       -1.69619706e+00, -6.28447061e-02, -5.86280856e-02, -1.69619706e+00,\n",
       "        2.10395401e-02, -1.63862026e-01, -1.11667853e-01, -1.69619706e+00,\n",
       "       -1.69619706e+00,  9.99138849e-02,  1.75598984e-01, -1.69619706e+00,\n",
       "        4.39509725e-01, -1.69619706e+00,  2.89978940e-01, -5.58580096e-01,\n",
       "       -1.69619706e+00,  8.95360627e-02, -1.69619706e+00, -1.69619706e+00,\n",
       "        3.21672639e-01, -1.69619706e+00, -1.88910416e-01, -3.69780610e-01,\n",
       "       -1.69619706e+00, -1.69619706e+00, -1.69619706e+00, -1.69619706e+00,\n",
       "       -1.69619706e+00, -7.12921285e-02,  2.10911255e-01, -2.82319335e-01,\n",
       "        1.98741863e-01,  9.80672093e-02,  1.10296191e-01, -2.87596790e-01,\n",
       "       -1.69619706e+00, -1.69619706e+00, -1.69619706e+00,  1.69827812e-01,\n",
       "       -1.69619706e+00,  3.71460201e-01, -1.69619706e+00, -1.69619706e+00,\n",
       "       -1.69619706e+00, -1.69619706e+00,  4.35500708e-01, -1.69619706e+00,\n",
       "       -2.79693934e-01, -5.71701507e-02, -1.69619706e+00,  8.80099509e-02,\n",
       "        7.50770828e-02,  1.85821222e-01,  7.95036212e-02, -1.69619706e+00,\n",
       "       -1.69619706e+00, -1.69619706e+00, -1.69619706e+00, -1.69619706e+00,\n",
       "        1.40755941e-01,  2.31411011e-02, -1.69619706e+00,  1.49209384e-01,\n",
       "       -1.69619706e+00, -1.69619706e+00, -1.62205617e-01, -1.69619706e+00,\n",
       "       -8.14492081e-02, -1.69619706e+00, -1.69619706e+00,  1.28216058e-01,\n",
       "       -1.69619706e+00, -1.70863987e-01,  1.88560965e-01, -1.69619706e+00,\n",
       "        2.59395079e-02, -3.29486772e-01,  2.07935810e-01, -9.16091133e-02,\n",
       "       -1.69619706e+00, -1.69619706e+00, -1.69619706e+00, -1.00291908e-01,\n",
       "       -1.69619706e+00,  4.84168680e-01, -1.69619706e+00, -7.82920253e-03,\n",
       "       -1.69619706e+00, -1.39137901e-01, -1.69619706e+00, -4.71535889e-01,\n",
       "       -1.69619706e+00, -1.69619706e+00, -1.69619706e+00,  1.00027354e-01,\n",
       "        9.86359760e-02, -1.69619706e+00,  7.49095099e-02, -1.69619706e+00,\n",
       "        4.21171210e-01,  2.11443441e-01,  2.08277359e-01, -2.85325807e-02,\n",
       "       -1.69619706e+00, -5.00294625e-01, -1.69619706e+00, -1.69619706e+00,\n",
       "       -9.38434039e-02, -1.69619706e+00, -5.64711105e-02, -1.69619706e+00,\n",
       "       -1.69619706e+00, -1.69619706e+00, -1.69619706e+00, -1.26636072e-01,\n",
       "       -1.69619706e+00, -1.69619706e+00, -1.69619706e+00,  1.38249746e-02,\n",
       "       -5.26352756e-02,  5.25897283e-02, -1.69619706e+00, -1.69619706e+00,\n",
       "       -2.69873755e-02,  6.35401950e-02, -1.69619706e+00, -1.69619706e+00,\n",
       "       -1.69619706e+00,  2.45661588e-01, -1.69619706e+00,  7.52380961e-02,\n",
       "       -8.37621267e-02, -1.69619706e+00,  2.11984776e-01, -8.28073546e-02,\n",
       "       -8.59604580e-03, -1.69619706e+00, -1.69619706e+00, -1.69619706e+00,\n",
       "       -1.69619706e+00, -3.97779505e-01,  1.94272804e-01, -1.69619706e+00,\n",
       "       -2.55580923e-01, -1.78949484e-02, -1.69619706e+00, -8.50140053e-02,\n",
       "       -1.69619706e+00, -1.69619706e+00, -1.69619706e+00, -1.69619706e+00,\n",
       "        3.22449334e-01, -1.69619706e+00, -1.69619706e+00, -1.69619706e+00,\n",
       "       -1.69619706e+00, -1.69619706e+00, -1.69619706e+00, -1.69619706e+00,\n",
       "        6.83767213e-03,  1.31282554e-01, -1.69619706e+00, -1.69619706e+00,\n",
       "       -1.69619706e+00, -1.69619706e+00,  4.95710142e-01, -1.69619706e+00,\n",
       "        1.01690302e-01, -1.69619706e+00, -1.67433597e-01, -1.69619706e+00,\n",
       "       -1.69619706e+00,  5.81341151e-02, -1.69619706e+00,  7.33431226e-02,\n",
       "       -1.69619706e+00,  2.39486598e-01, -1.69619706e+00, -1.69619706e+00,\n",
       "       -1.69619706e+00, -2.48823096e-02,  1.60916577e-02,  1.32980717e-01,\n",
       "        6.94817632e-02, -1.69619706e+00, -1.69619706e+00,  1.88596634e-01,\n",
       "       -1.69619706e+00, -2.19738475e-02, -1.69619706e+00, -1.69619706e+00,\n",
       "       -1.69619706e+00, -1.69619706e+00,  1.26217745e-29, -3.78653235e-29,\n",
       "        1.00974196e-28,  2.80045621e-29, -1.69619706e+00,  1.26217745e-28,\n",
       "       -1.69619706e+00,  2.52435490e-29, -1.69619706e+00, -1.79334947e+00,\n",
       "       -7.57306469e-29, -1.69619706e+00, -1.89050188e+00, -1.89050188e+00,\n",
       "       -1.89050188e+00,  1.21543994e-29,  5.04870979e-29,  6.31088724e-30,\n",
       "       -1.89050188e+00,  7.57306469e-29,  0.00000000e+00,  1.36592985e-29,\n",
       "       -1.89050188e+00, -3.78653235e-29,  5.88848567e-30, -1.89050188e+00,\n",
       "       -1.89050188e+00, -1.89050188e+00,  1.26217745e-29, -1.89050188e+00,\n",
       "       -1.89050188e+00, -1.89050188e+00, -2.52435490e-29, -5.91645679e-30,\n",
       "       -1.89050188e+00, -1.89050188e+00, -2.36658272e-30, -1.89050188e+00,\n",
       "        1.57772181e-29,  0.00000000e+00, -1.89050188e+00, -1.01380952e-30,\n",
       "       -1.89050188e+00,  0.00000000e+00,  0.00000000e+00, -1.89050188e+00,\n",
       "       -1.89050188e+00, -1.89050188e+00, -1.89050188e+00,  0.00000000e+00,\n",
       "       -1.89050188e+00,  0.00000000e+00, -1.89050188e+00,  0.00000000e+00,\n",
       "        0.00000000e+00,  0.00000000e+00, -1.89050188e+00, -1.89050188e+00,\n",
       "       -1.89050188e+00, -1.89050188e+00, -1.89050188e+00, -1.89050188e+00,\n",
       "       -1.89050188e+00,  0.00000000e+00, -1.89050188e+00,  0.00000000e+00,\n",
       "        0.00000000e+00,  0.00000000e+00,  0.00000000e+00,  0.00000000e+00,\n",
       "       -1.89050188e+00, -1.89050188e+00, -1.89050188e+00, -1.89050188e+00,\n",
       "       -1.89050188e+00, -1.89050188e+00, -1.89050188e+00,  0.00000000e+00,\n",
       "        0.00000000e+00, -1.89050188e+00, -1.89050188e+00, -1.89050188e+00,\n",
       "        0.00000000e+00,  0.00000000e+00, -1.89050188e+00,  0.00000000e+00,\n",
       "        0.00000000e+00, -1.89050188e+00, -1.89050188e+00,  0.00000000e+00,\n",
       "       -1.89050188e+00, -1.89050188e+00, -1.89050188e+00,  0.00000000e+00,\n",
       "        0.00000000e+00,  0.00000000e+00,  0.00000000e+00, -1.89050188e+00,\n",
       "       -1.89050188e+00, -1.89050188e+00,  0.00000000e+00,  0.00000000e+00,\n",
       "        0.00000000e+00,  0.00000000e+00, -1.89050188e+00, -1.89050188e+00,\n",
       "        0.00000000e+00, -1.89050188e+00,  0.00000000e+00, -1.89050188e+00,\n",
       "        0.00000000e+00, -1.89050188e+00,  0.00000000e+00, -1.89050188e+00,\n",
       "        0.00000000e+00, -1.89050188e+00,  0.00000000e+00,  0.00000000e+00,\n",
       "       -1.89050188e+00,  0.00000000e+00,  0.00000000e+00,  0.00000000e+00,\n",
       "       -1.89050188e+00, -1.89050188e+00,  0.00000000e+00, -1.89050188e+00,\n",
       "       -1.89050188e+00,  0.00000000e+00,  0.00000000e+00, -1.89050188e+00,\n",
       "       -1.89050188e+00, -1.89050188e+00,  0.00000000e+00,  0.00000000e+00,\n",
       "       -1.89050188e+00,  0.00000000e+00, -1.89050188e+00,  0.00000000e+00,\n",
       "        0.00000000e+00, -1.89050188e+00, -1.89050188e+00, -1.89050188e+00,\n",
       "       -1.89050188e+00,  0.00000000e+00, -1.89050188e+00,  0.00000000e+00,\n",
       "       -1.89050188e+00, -1.89050188e+00, -1.89050188e+00, -1.89050188e+00,\n",
       "       -1.89050188e+00, -1.89050188e+00,  0.00000000e+00, -1.89050188e+00,\n",
       "       -1.89050188e+00,  0.00000000e+00,  0.00000000e+00,  0.00000000e+00,\n",
       "        0.00000000e+00,  0.00000000e+00, -1.89050188e+00, -1.89050188e+00,\n",
       "       -1.79334947e+00, -1.89050188e+00, -1.89050188e+00,  0.00000000e+00,\n",
       "       -1.89050188e+00,  0.00000000e+00, -1.89050188e+00, -1.89050188e+00,\n",
       "        0.00000000e+00,  0.00000000e+00, -1.89050188e+00, -1.89050188e+00,\n",
       "       -1.89050188e+00, -1.89050188e+00, -1.89050188e+00,  0.00000000e+00,\n",
       "       -1.89050188e+00, -1.89050188e+00,  0.00000000e+00,  0.00000000e+00,\n",
       "        0.00000000e+00,  0.00000000e+00, -1.89050188e+00, -1.89050188e+00,\n",
       "       -1.89050188e+00,  0.00000000e+00, -1.89050188e+00, -1.89050188e+00,\n",
       "       -1.89050188e+00,  0.00000000e+00, -1.89050188e+00, -1.89050188e+00,\n",
       "        0.00000000e+00,  0.00000000e+00, -1.89050188e+00, -1.89050188e+00,\n",
       "       -1.89050188e+00,  0.00000000e+00, -1.89050188e+00, -1.89050188e+00,\n",
       "       -1.89050188e+00,  0.00000000e+00,  0.00000000e+00, -1.89050188e+00,\n",
       "        0.00000000e+00,  0.00000000e+00, -1.89050188e+00, -1.89050188e+00,\n",
       "       -1.89050188e+00, -1.89050188e+00,  0.00000000e+00, -1.89050188e+00,\n",
       "        0.00000000e+00, -1.89050188e+00, -1.89050188e+00, -1.89050188e+00,\n",
       "       -1.89050188e+00,  0.00000000e+00, -1.89050188e+00, -1.89050188e+00,\n",
       "       -1.89050188e+00,  0.00000000e+00,  0.00000000e+00,  0.00000000e+00,\n",
       "       -1.89050188e+00, -1.89050188e+00,  0.00000000e+00, -1.89050188e+00,\n",
       "       -1.89050188e+00, -1.89050188e+00,  0.00000000e+00,  0.00000000e+00,\n",
       "       -1.89050188e+00,  0.00000000e+00,  0.00000000e+00,  0.00000000e+00,\n",
       "        0.00000000e+00,  0.00000000e+00,  0.00000000e+00, -1.89050188e+00,\n",
       "       -1.89050188e+00,  0.00000000e+00, -1.89050188e+00,  0.00000000e+00,\n",
       "        0.00000000e+00, -1.89050188e+00,  0.00000000e+00,  0.00000000e+00,\n",
       "       -1.89050188e+00,  0.00000000e+00, -1.89050188e+00, -1.89050188e+00,\n",
       "       -1.89050188e+00,  0.00000000e+00,  0.00000000e+00, -1.89050188e+00,\n",
       "       -1.89050188e+00, -1.89050188e+00, -1.89050188e+00, -1.89050188e+00,\n",
       "        0.00000000e+00, -1.89050188e+00,  0.00000000e+00,  0.00000000e+00,\n",
       "       -1.89050188e+00, -1.89050188e+00, -1.89050188e+00, -1.89050188e+00,\n",
       "        0.00000000e+00,  0.00000000e+00,  0.00000000e+00, -1.89050188e+00,\n",
       "        0.00000000e+00, -1.89050188e+00, -1.89050188e+00,  0.00000000e+00,\n",
       "       -1.89050188e+00,  0.00000000e+00, -1.89050188e+00,  0.00000000e+00,\n",
       "        0.00000000e+00, -1.89050188e+00, -1.89050188e+00, -1.89050188e+00,\n",
       "        0.00000000e+00,  0.00000000e+00,  0.00000000e+00,  0.00000000e+00,\n",
       "       -1.89050188e+00, -1.89050188e+00,  0.00000000e+00, -1.89050188e+00,\n",
       "        0.00000000e+00, -1.89050188e+00, -1.89050188e+00,  0.00000000e+00,\n",
       "        0.00000000e+00,  0.00000000e+00,  0.00000000e+00, -1.89050188e+00,\n",
       "        0.00000000e+00, -1.89050188e+00,  0.00000000e+00,  0.00000000e+00,\n",
       "       -1.89050188e+00,  0.00000000e+00,  0.00000000e+00,  0.00000000e+00,\n",
       "        0.00000000e+00,  0.00000000e+00,  0.00000000e+00])"
      ]
     },
     "execution_count": 56,
     "metadata": {},
     "output_type": "execute_result"
    }
   ],
   "source": [
    "LinReg.coef_"
   ]
  },
  {
   "cell_type": "markdown",
   "metadata": {
    "collapsed": true
   },
   "source": [
    "Для решения описанных вами в предыдущем пункте проблем используем L1- или L2-регуляризацию, тем самым получив Lasso и Ridge регрессии соответственно и изменив оптимизационную задачу одним из следующих образов:\n",
    "$$MSE_{L1}(X, y) = \\frac{1}{l} \\sum_{i=1}^l (<w, x_i> - y_i)^2 + \\alpha ||w||_1 \\to \\min_{w},$$\n",
    "$$MSE_{L2}(X, y) = \\frac{1}{l} \\sum_{i=1}^l (<w, x_i> - y_i)^2 + \\alpha ||w||_2^2 \\to \\min_{w},$$\n",
    "\n",
    "где $\\alpha$ — коэффициент регуляризации. Один из способов его подбора заключается в переборе некоторого количества значений и оценке качества на кросс-валидации для каждого из них, после чего выбирается значение, для которого было получено наилучшее качество.\n",
    "\n",
    "**18. (0.5 балла)** Обучите линейные регрессии с L1- и L2-регуляризатором, подобрав лучшее значение параметра регуляризации из списка alpha_grid при помощи кросс-валидации c 5 фолдами на тех же 1000 объектах, что и в п.17. Выведите значения $MSE$ и $R^2$ на обучающей и контрольной выборках. Удалось ли решить указанные вами ранее проблемы?\n",
    "\n",
    "Для выполнения данного задания вам могут понадобиться реализованные в библиотеке объекты [LassoCV](http://scikit-learn.org/stable/modules/generated/sklearn.linear_model.LassoCV.html), [RidgeCV](http://scikit-learn.org/stable/modules/generated/sklearn.linear_model.RidgeCV.html) и [KFold](http://scikit-learn.org/stable/modules/generated/sklearn.cross_validation.KFold.html).\n"
   ]
  },
  {
   "cell_type": "code",
   "execution_count": 60,
   "metadata": {},
   "outputs": [],
   "source": [
    "from sklearn.linear_model import LassoCV\n",
    "from sklearn.linear_model import RidgeCV\n",
    "from sklearn.model_selection import KFold"
   ]
  },
  {
   "cell_type": "code",
   "execution_count": 70,
   "metadata": {},
   "outputs": [
    {
     "name": "stderr",
     "output_type": "stream",
     "text": [
      "C:\\Users\\Svetlana.Svetlana-PC\\anaconda3\\lib\\site-packages\\sklearn\\linear_model\\_coordinate_descent.py:472: ConvergenceWarning: Objective did not converge. You might want to increase the number of iterations. Duality gap: 814.5418075453315, tolerance: 93.551314875\n",
      "  tol, rng, random, positive)\n",
      "C:\\Users\\Svetlana.Svetlana-PC\\anaconda3\\lib\\site-packages\\sklearn\\linear_model\\_coordinate_descent.py:472: ConvergenceWarning: Objective did not converge. You might want to increase the number of iterations. Duality gap: 872.0087672804041, tolerance: 73.07163487499999\n",
      "  tol, rng, random, positive)\n",
      "C:\\Users\\Svetlana.Svetlana-PC\\anaconda3\\lib\\site-packages\\sklearn\\linear_model\\_coordinate_descent.py:472: ConvergenceWarning: Objective did not converge. You might want to increase the number of iterations. Duality gap: 872.3673241326239, tolerance: 75.20736800000002\n",
      "  tol, rng, random, positive)\n",
      "C:\\Users\\Svetlana.Svetlana-PC\\anaconda3\\lib\\site-packages\\sklearn\\linear_model\\_coordinate_descent.py:476: ConvergenceWarning: Objective did not converge. You might want to increase the number of iterations. Duality gap: 1601.899525318078, tolerance: 105.98166710000001\n",
      "  positive)\n"
     ]
    }
   ],
   "source": [
    "LassR = LassoCV(alphas=np.linspace(0.01, 100, num=1000), cv=KFold(n_splits=5,random_state=42))\n",
    "\n",
    "LassR.fit(X_train1, y_train1)\n",
    "LassR_train = LassR.predict(X_train1)\n",
    "LassR_test = LassR.predict(X_test)"
   ]
  },
  {
   "cell_type": "code",
   "execution_count": 61,
   "metadata": {},
   "outputs": [
    {
     "data": {
      "text/plain": [
       "array([ 3.50984482e-02,  0.00000000e+00,  3.59244506e-02,  7.49749690e-02,\n",
       "        0.00000000e+00, -0.00000000e+00,  0.00000000e+00,  4.59275204e-02,\n",
       "       -8.28355928e+00,  6.79070071e+01, -5.75543222e+01,  3.87480655e+01,\n",
       "       -3.58764314e-01, -4.06483115e+00, -9.92931332e+00, -0.00000000e+00,\n",
       "       -6.92149363e+00,  1.47220479e-01,  6.18963183e-02,  0.00000000e+00,\n",
       "       -0.00000000e+00,  1.63667752e-01,  0.00000000e+00,  1.86798716e-02,\n",
       "        6.60347345e-02, -5.09467194e-02, -1.29524551e-01,  4.54155220e-02,\n",
       "        4.90215677e-02, -2.22902472e-02, -1.57928355e-01, -1.15284130e-01,\n",
       "        0.00000000e+00, -0.00000000e+00,  0.00000000e+00,  0.00000000e+00,\n",
       "       -0.00000000e+00, -0.00000000e+00,  0.00000000e+00, -0.00000000e+00,\n",
       "       -0.00000000e+00,  0.00000000e+00, -0.00000000e+00,  0.00000000e+00,\n",
       "        0.00000000e+00,  0.00000000e+00, -0.00000000e+00,  0.00000000e+00,\n",
       "        2.23892608e-01, -0.00000000e+00,  0.00000000e+00,  0.00000000e+00,\n",
       "       -0.00000000e+00,  0.00000000e+00,  0.00000000e+00,  0.00000000e+00,\n",
       "       -0.00000000e+00,  0.00000000e+00,  0.00000000e+00,  0.00000000e+00,\n",
       "        0.00000000e+00,  0.00000000e+00,  0.00000000e+00, -0.00000000e+00,\n",
       "        0.00000000e+00,  0.00000000e+00,  0.00000000e+00, -0.00000000e+00,\n",
       "       -0.00000000e+00, -0.00000000e+00,  0.00000000e+00,  0.00000000e+00,\n",
       "        0.00000000e+00,  0.00000000e+00,  0.00000000e+00,  0.00000000e+00,\n",
       "       -0.00000000e+00,  0.00000000e+00,  0.00000000e+00,  0.00000000e+00,\n",
       "        0.00000000e+00,  0.00000000e+00,  0.00000000e+00,  0.00000000e+00,\n",
       "       -0.00000000e+00,  0.00000000e+00, -0.00000000e+00,  0.00000000e+00,\n",
       "       -0.00000000e+00,  0.00000000e+00,  0.00000000e+00,  0.00000000e+00,\n",
       "        0.00000000e+00,  0.00000000e+00, -0.00000000e+00, -0.00000000e+00,\n",
       "        0.00000000e+00, -0.00000000e+00,  0.00000000e+00,  0.00000000e+00,\n",
       "        0.00000000e+00,  0.00000000e+00,  0.00000000e+00, -0.00000000e+00,\n",
       "        0.00000000e+00,  0.00000000e+00,  0.00000000e+00,  0.00000000e+00,\n",
       "       -0.00000000e+00,  0.00000000e+00, -0.00000000e+00,  0.00000000e+00,\n",
       "        0.00000000e+00,  0.00000000e+00,  0.00000000e+00,  0.00000000e+00,\n",
       "        0.00000000e+00,  0.00000000e+00,  0.00000000e+00,  0.00000000e+00,\n",
       "        0.00000000e+00, -0.00000000e+00,  0.00000000e+00,  0.00000000e+00,\n",
       "       -0.00000000e+00,  0.00000000e+00,  0.00000000e+00,  0.00000000e+00,\n",
       "        0.00000000e+00,  0.00000000e+00, -0.00000000e+00, -0.00000000e+00,\n",
       "        0.00000000e+00,  4.81744834e+00,  0.00000000e+00,  0.00000000e+00,\n",
       "        0.00000000e+00,  0.00000000e+00, -0.00000000e+00,  0.00000000e+00,\n",
       "       -0.00000000e+00,  0.00000000e+00,  0.00000000e+00,  0.00000000e+00,\n",
       "        0.00000000e+00,  0.00000000e+00,  0.00000000e+00, -5.42583378e+00,\n",
       "       -0.00000000e+00,  0.00000000e+00,  0.00000000e+00,  0.00000000e+00,\n",
       "        0.00000000e+00, -0.00000000e+00,  0.00000000e+00,  0.00000000e+00,\n",
       "       -0.00000000e+00,  0.00000000e+00, -0.00000000e+00,  0.00000000e+00,\n",
       "        0.00000000e+00, -0.00000000e+00,  0.00000000e+00,  0.00000000e+00,\n",
       "       -0.00000000e+00,  0.00000000e+00, -0.00000000e+00, -0.00000000e+00,\n",
       "       -0.00000000e+00,  0.00000000e+00,  0.00000000e+00,  0.00000000e+00,\n",
       "        0.00000000e+00,  0.00000000e+00,  0.00000000e+00,  0.00000000e+00,\n",
       "       -0.00000000e+00,  0.00000000e+00, -0.00000000e+00,  0.00000000e+00,\n",
       "        0.00000000e+00,  0.00000000e+00, -0.00000000e+00, -0.00000000e+00,\n",
       "       -0.00000000e+00, -0.00000000e+00,  0.00000000e+00,  0.00000000e+00,\n",
       "        0.00000000e+00,  0.00000000e+00, -0.00000000e+00,  0.00000000e+00,\n",
       "        0.00000000e+00,  0.00000000e+00,  0.00000000e+00,  0.00000000e+00,\n",
       "        0.00000000e+00,  0.00000000e+00,  0.00000000e+00, -0.00000000e+00,\n",
       "        0.00000000e+00,  0.00000000e+00,  0.00000000e+00,  0.00000000e+00,\n",
       "        0.00000000e+00, -0.00000000e+00,  0.00000000e+00, -0.00000000e+00,\n",
       "        0.00000000e+00,  0.00000000e+00, -0.00000000e+00,  0.00000000e+00,\n",
       "        0.00000000e+00,  0.00000000e+00,  0.00000000e+00,  0.00000000e+00,\n",
       "        0.00000000e+00,  0.00000000e+00,  0.00000000e+00,  0.00000000e+00,\n",
       "       -0.00000000e+00, -0.00000000e+00,  0.00000000e+00,  0.00000000e+00,\n",
       "        0.00000000e+00,  0.00000000e+00,  0.00000000e+00,  0.00000000e+00,\n",
       "       -0.00000000e+00,  0.00000000e+00, -0.00000000e+00,  0.00000000e+00,\n",
       "       -0.00000000e+00,  0.00000000e+00, -0.00000000e+00,  0.00000000e+00,\n",
       "        0.00000000e+00, -0.00000000e+00,  0.00000000e+00,  0.00000000e+00,\n",
       "        0.00000000e+00,  0.00000000e+00,  0.00000000e+00,  0.00000000e+00,\n",
       "       -0.00000000e+00,  0.00000000e+00,  0.00000000e+00, -0.00000000e+00,\n",
       "        0.00000000e+00, -0.00000000e+00,  0.00000000e+00,  0.00000000e+00,\n",
       "       -0.00000000e+00,  0.00000000e+00,  0.00000000e+00,  0.00000000e+00,\n",
       "       -0.00000000e+00, -0.00000000e+00, -0.00000000e+00,  0.00000000e+00,\n",
       "        0.00000000e+00,  0.00000000e+00, -0.00000000e+00, -0.00000000e+00,\n",
       "        0.00000000e+00,  0.00000000e+00,  0.00000000e+00,  0.00000000e+00,\n",
       "        0.00000000e+00,  0.00000000e+00, -0.00000000e+00,  0.00000000e+00,\n",
       "        0.00000000e+00,  0.00000000e+00,  0.00000000e+00,  0.00000000e+00,\n",
       "        0.00000000e+00, -0.00000000e+00, -0.00000000e+00, -0.00000000e+00,\n",
       "       -0.00000000e+00,  0.00000000e+00,  0.00000000e+00, -0.00000000e+00,\n",
       "        0.00000000e+00,  0.00000000e+00, -0.00000000e+00,  0.00000000e+00,\n",
       "       -0.00000000e+00, -0.00000000e+00, -0.00000000e+00,  0.00000000e+00,\n",
       "        0.00000000e+00, -0.00000000e+00,  0.00000000e+00, -0.00000000e+00,\n",
       "       -0.00000000e+00, -0.00000000e+00,  0.00000000e+00,  0.00000000e+00,\n",
       "        0.00000000e+00,  0.00000000e+00, -0.00000000e+00, -0.00000000e+00,\n",
       "        0.00000000e+00,  0.00000000e+00,  0.00000000e+00,  0.00000000e+00,\n",
       "        0.00000000e+00,  0.00000000e+00,  0.00000000e+00, -0.00000000e+00,\n",
       "        0.00000000e+00,  0.00000000e+00,  0.00000000e+00,  0.00000000e+00,\n",
       "        0.00000000e+00,  0.00000000e+00,  0.00000000e+00, -0.00000000e+00,\n",
       "       -0.00000000e+00,  0.00000000e+00,  0.00000000e+00,  0.00000000e+00,\n",
       "        0.00000000e+00,  0.00000000e+00, -0.00000000e+00,  0.00000000e+00,\n",
       "       -0.00000000e+00,  0.00000000e+00, -0.00000000e+00, -0.00000000e+00,\n",
       "       -0.00000000e+00,  0.00000000e+00,  0.00000000e+00,  0.00000000e+00,\n",
       "        0.00000000e+00,  0.00000000e+00, -0.00000000e+00,  0.00000000e+00,\n",
       "        0.00000000e+00,  0.00000000e+00, -0.00000000e+00,  0.00000000e+00,\n",
       "        0.00000000e+00, -0.00000000e+00, -0.00000000e+00,  0.00000000e+00,\n",
       "       -0.00000000e+00,  0.00000000e+00,  0.00000000e+00,  0.00000000e+00,\n",
       "       -0.00000000e+00,  0.00000000e+00,  0.00000000e+00,  0.00000000e+00,\n",
       "       -0.00000000e+00,  0.00000000e+00,  0.00000000e+00,  0.00000000e+00,\n",
       "       -0.00000000e+00,  0.00000000e+00,  0.00000000e+00, -0.00000000e+00,\n",
       "        0.00000000e+00,  0.00000000e+00,  0.00000000e+00,  0.00000000e+00,\n",
       "        0.00000000e+00, -0.00000000e+00,  0.00000000e+00, -0.00000000e+00,\n",
       "        0.00000000e+00,  0.00000000e+00, -0.00000000e+00,  0.00000000e+00,\n",
       "        0.00000000e+00,  0.00000000e+00,  0.00000000e+00,  0.00000000e+00,\n",
       "        0.00000000e+00,  0.00000000e+00,  0.00000000e+00,  0.00000000e+00,\n",
       "        0.00000000e+00,  0.00000000e+00, -0.00000000e+00,  0.00000000e+00,\n",
       "        0.00000000e+00,  0.00000000e+00,  0.00000000e+00, -0.00000000e+00,\n",
       "        0.00000000e+00,  0.00000000e+00,  0.00000000e+00,  0.00000000e+00,\n",
       "       -0.00000000e+00,  0.00000000e+00,  0.00000000e+00,  0.00000000e+00,\n",
       "        0.00000000e+00,  0.00000000e+00,  0.00000000e+00,  0.00000000e+00,\n",
       "        0.00000000e+00, -0.00000000e+00, -0.00000000e+00, -0.00000000e+00,\n",
       "        0.00000000e+00,  0.00000000e+00,  0.00000000e+00,  0.00000000e+00,\n",
       "        0.00000000e+00, -0.00000000e+00, -0.00000000e+00,  0.00000000e+00,\n",
       "        0.00000000e+00,  0.00000000e+00,  0.00000000e+00,  0.00000000e+00,\n",
       "        0.00000000e+00, -0.00000000e+00,  0.00000000e+00,  0.00000000e+00,\n",
       "       -0.00000000e+00, -0.00000000e+00, -6.73182268e-01,  0.00000000e+00,\n",
       "        0.00000000e+00,  0.00000000e+00,  0.00000000e+00, -0.00000000e+00,\n",
       "       -0.00000000e+00,  0.00000000e+00,  0.00000000e+00,  0.00000000e+00,\n",
       "        0.00000000e+00,  0.00000000e+00, -0.00000000e+00,  0.00000000e+00,\n",
       "        0.00000000e+00,  0.00000000e+00,  0.00000000e+00, -0.00000000e+00,\n",
       "        0.00000000e+00, -0.00000000e+00,  0.00000000e+00,  0.00000000e+00,\n",
       "        0.00000000e+00,  0.00000000e+00,  0.00000000e+00,  0.00000000e+00,\n",
       "        0.00000000e+00,  0.00000000e+00,  0.00000000e+00,  0.00000000e+00,\n",
       "       -0.00000000e+00, -0.00000000e+00,  0.00000000e+00, -0.00000000e+00,\n",
       "        0.00000000e+00,  0.00000000e+00,  0.00000000e+00, -0.00000000e+00,\n",
       "       -0.00000000e+00,  0.00000000e+00,  0.00000000e+00,  0.00000000e+00,\n",
       "       -0.00000000e+00,  0.00000000e+00,  0.00000000e+00,  0.00000000e+00,\n",
       "        0.00000000e+00,  0.00000000e+00, -0.00000000e+00,  0.00000000e+00,\n",
       "        0.00000000e+00,  0.00000000e+00,  0.00000000e+00,  0.00000000e+00,\n",
       "       -0.00000000e+00,  6.20845061e-01, -0.00000000e+00, -0.00000000e+00,\n",
       "       -0.00000000e+00, -0.00000000e+00,  0.00000000e+00, -0.00000000e+00,\n",
       "       -0.00000000e+00,  0.00000000e+00,  0.00000000e+00,  0.00000000e+00,\n",
       "        0.00000000e+00,  0.00000000e+00, -0.00000000e+00, -0.00000000e+00,\n",
       "        0.00000000e+00, -0.00000000e+00, -0.00000000e+00,  0.00000000e+00,\n",
       "        0.00000000e+00,  0.00000000e+00,  0.00000000e+00,  0.00000000e+00,\n",
       "        0.00000000e+00,  0.00000000e+00, -0.00000000e+00, -0.00000000e+00,\n",
       "       -0.00000000e+00, -0.00000000e+00, -0.00000000e+00,  0.00000000e+00,\n",
       "        0.00000000e+00,  0.00000000e+00,  0.00000000e+00,  0.00000000e+00,\n",
       "        0.00000000e+00,  0.00000000e+00, -0.00000000e+00,  0.00000000e+00,\n",
       "        0.00000000e+00,  0.00000000e+00, -0.00000000e+00, -0.00000000e+00,\n",
       "       -0.00000000e+00,  0.00000000e+00, -0.00000000e+00, -0.00000000e+00,\n",
       "        0.00000000e+00,  0.00000000e+00,  0.00000000e+00,  0.00000000e+00,\n",
       "       -0.00000000e+00,  0.00000000e+00, -0.00000000e+00,  0.00000000e+00,\n",
       "       -0.00000000e+00,  0.00000000e+00,  0.00000000e+00, -0.00000000e+00,\n",
       "        0.00000000e+00,  0.00000000e+00,  0.00000000e+00, -0.00000000e+00,\n",
       "       -0.00000000e+00,  0.00000000e+00,  0.00000000e+00, -0.00000000e+00,\n",
       "        0.00000000e+00,  0.00000000e+00, -0.00000000e+00, -0.00000000e+00,\n",
       "        0.00000000e+00,  0.00000000e+00, -0.00000000e+00,  0.00000000e+00,\n",
       "        0.00000000e+00,  0.00000000e+00,  0.00000000e+00,  0.00000000e+00,\n",
       "       -0.00000000e+00, -0.00000000e+00,  0.00000000e+00,  0.00000000e+00,\n",
       "        0.00000000e+00, -0.00000000e+00,  0.00000000e+00,  0.00000000e+00,\n",
       "       -0.00000000e+00,  0.00000000e+00,  0.00000000e+00,  0.00000000e+00,\n",
       "        0.00000000e+00,  0.00000000e+00,  0.00000000e+00, -0.00000000e+00,\n",
       "        0.00000000e+00,  0.00000000e+00,  0.00000000e+00,  0.00000000e+00,\n",
       "        0.00000000e+00,  0.00000000e+00,  0.00000000e+00,  0.00000000e+00,\n",
       "        0.00000000e+00,  0.00000000e+00, -0.00000000e+00, -0.00000000e+00,\n",
       "        0.00000000e+00,  0.00000000e+00,  0.00000000e+00,  0.00000000e+00,\n",
       "        0.00000000e+00,  0.00000000e+00, -0.00000000e+00,  0.00000000e+00,\n",
       "        0.00000000e+00, -0.00000000e+00,  0.00000000e+00,  0.00000000e+00,\n",
       "        0.00000000e+00, -0.00000000e+00,  0.00000000e+00,  0.00000000e+00,\n",
       "        0.00000000e+00,  0.00000000e+00,  0.00000000e+00,  0.00000000e+00,\n",
       "        0.00000000e+00,  0.00000000e+00, -0.00000000e+00,  0.00000000e+00,\n",
       "       -0.00000000e+00,  0.00000000e+00, -0.00000000e+00,  0.00000000e+00,\n",
       "        0.00000000e+00,  0.00000000e+00,  0.00000000e+00,  0.00000000e+00,\n",
       "        0.00000000e+00,  0.00000000e+00,  0.00000000e+00,  0.00000000e+00,\n",
       "        0.00000000e+00,  0.00000000e+00,  0.00000000e+00,  0.00000000e+00,\n",
       "        0.00000000e+00,  0.00000000e+00, -0.00000000e+00,  0.00000000e+00,\n",
       "        0.00000000e+00,  0.00000000e+00,  0.00000000e+00, -0.00000000e+00,\n",
       "        0.00000000e+00,  0.00000000e+00,  0.00000000e+00,  0.00000000e+00,\n",
       "       -0.00000000e+00,  0.00000000e+00,  0.00000000e+00,  0.00000000e+00,\n",
       "        0.00000000e+00,  0.00000000e+00,  0.00000000e+00])"
      ]
     },
     "execution_count": 61,
     "metadata": {},
     "output_type": "execute_result"
    }
   ],
   "source": [
    "LassReg.coef_"
   ]
  },
  {
   "cell_type": "code",
   "execution_count": 66,
   "metadata": {},
   "outputs": [
    {
     "data": {
      "text/plain": [
       "0.01"
      ]
     },
     "execution_count": 66,
     "metadata": {},
     "output_type": "execute_result"
    }
   ],
   "source": [
    "LassReg.alpha_"
   ]
  },
  {
   "cell_type": "code",
   "execution_count": 71,
   "metadata": {},
   "outputs": [],
   "source": [
    "mse_train_LassR=mean_squared_error(y_train1, LassR_train)\n",
    "mse_test_LassR=mean_squared_error(y_test, LassR_test)\n",
    "\n",
    "r2_score_train_LassR=r2_score(y_train1, LassR_train)\n",
    "r2_score_test_LassR=r2_score(y_test, LassR_test)"
   ]
  },
  {
   "cell_type": "code",
   "execution_count": 72,
   "metadata": {},
   "outputs": [
    {
     "name": "stdout",
     "output_type": "stream",
     "text": [
      "Train \n",
      " MSE:  1.5655646835494703 \n",
      " 𝑅2:  0.9985227967002328 \n",
      "\n",
      "Test \n",
      " MSE:  41.42027245013129 \n",
      " 𝑅2:  0.9690354836796807\n"
     ]
    }
   ],
   "source": [
    "print('Train','\\n','MSE: ', mse_train_LassR,'\\n','𝑅2: ', r2_score_train_LassR,'\\n')\n",
    "print('Test','\\n','MSE: ', mse_test_LassR,'\\n','𝑅2: ', r2_score_test_LassR)"
   ]
  },
  {
   "cell_type": "code",
   "execution_count": 73,
   "metadata": {},
   "outputs": [
    {
     "name": "stderr",
     "output_type": "stream",
     "text": [
      "C:\\Users\\Svetlana.Svetlana-PC\\anaconda3\\lib\\site-packages\\sklearn\\model_selection\\_split.py:296: FutureWarning: Setting a random_state has no effect since shuffle is False. This will raise an error in 0.24. You should leave random_state to its default (None), or set shuffle=True.\n",
      "  FutureWarning\n"
     ]
    }
   ],
   "source": [
    "RidgeR = RidgeCV(alphas=np.linspace(0.1, 150, num=1000), cv=KFold(n_splits=5,random_state=42))\n",
    "RidgeR.fit(X_train1, y_train1)\n",
    "RidgeR_train = RidgeR.predict(X_train1)\n",
    "RidgeR_test = RidgeR.predict(X_test)"
   ]
  },
  {
   "cell_type": "code",
   "execution_count": 74,
   "metadata": {},
   "outputs": [
    {
     "data": {
      "text/plain": [
       "0.1"
      ]
     },
     "execution_count": 74,
     "metadata": {},
     "output_type": "execute_result"
    }
   ],
   "source": [
    "RidgeR.alpha_"
   ]
  },
  {
   "cell_type": "code",
   "execution_count": 75,
   "metadata": {},
   "outputs": [
    {
     "name": "stdout",
     "output_type": "stream",
     "text": [
      "Train \n",
      " MSE:  0.7263402855312578 \n",
      " 𝑅2:  0.9993146547837883 \n",
      "\n",
      "Test \n",
      " MSE:  42.19476974865734 \n",
      " 𝑅2:  0.9684564934214894\n"
     ]
    }
   ],
   "source": [
    "mse_train_RidgeR=mean_squared_error(y_train1, RidgeR_train)\n",
    "mse_test_RidgeR=mean_squared_error(y_test, RidgeR_test)\n",
    "\n",
    "r2_score_train_RidgeR=r2_score(y_train1, RidgeR_train)\n",
    "r2_score_test_RidgeR=r2_score(y_test, RidgeR_test)\n",
    "\n",
    "print('Train','\\n','MSE: ', mse_train_RidgeR,'\\n','𝑅2: ', r2_score_train_RidgeR,'\\n')\n",
    "print('Test','\\n','MSE: ', mse_test_RidgeR,'\\n','𝑅2: ', r2_score_test_RidgeR)"
   ]
  },
  {
   "cell_type": "markdown",
   "metadata": {},
   "source": [
    "### Градиентный спуск\n",
    "\n",
    "В предыдущем разделе мы использовали существующие реализации методов обучения линейной регрессии с регуляризацией и без. Тем не менее, подобные реализации, как правило, имеются лишь для ограниченного набора стандартных методов. В частности, при выходе функционала качества за пределы стандартного множества необходимо самостоятельно реализовывать составляющие процесса решения оптимизационной задачи. Именно этому и посвящен данный раздел задания.\n",
    "\n",
    "Пусть необходимо минимизировать следующий функционал (Mean Square Percentage Error — модифицированный [RMSPE](https://www.kaggle.com/c/rossmann-store-sales/details/evaluation)):\n",
    "$$MSPE(\\{x_i, y_i\\}_{i=1}^l, \\, w) = \\frac{1}{l}\\sum_{i=1}^l \\left( \\frac{y_i - \\langle w, x_i \\rangle }{y_i} \\right)^2,$$\n",
    "\n",
    "где $\\{x_i, y_i\\}_{i=1}^l$ — обучающая выборка, $w$ — вектор весов линейной модели. Будем также рассматривать функционал $MSPE$ с L2-регуляризацией:\n",
    "\n",
    "$$MSPE(\\{x_i, y_i\\}_{i=1}^l, \\, w) = \\frac{1}{l}\\sum_{i=1}^l \\left( \\frac{y_i - \\langle w, x_i \\rangle }{y_i} \\right)^2 + ||w||_2^2.$$\n",
    "\n",
    "**19. (0 баллов)** Добавьте к объектам обеих выборок из п. 16 единичный признак."
   ]
  },
  {
   "cell_type": "code",
   "execution_count": null,
   "metadata": {
    "collapsed": true
   },
   "outputs": [],
   "source": [
    "# Your code here"
   ]
  },
  {
   "cell_type": "markdown",
   "metadata": {},
   "source": [
    "**20. (1 балл)** Реализуйте функции, которые вычисляют:\n",
    " * прогнозы линейной модели;\n",
    " * функционал $MSPE$ и его градиент;\n",
    " * регуляризованный $MSPE$ и его градиент."
   ]
  },
  {
   "cell_type": "code",
   "execution_count": 76,
   "metadata": {},
   "outputs": [],
   "source": [
    "# возвращает вектор прогнозов линейной модели с вектором весов w для выборки X\n",
    "def make_pred(X, w):\n",
    "     return np.dot(X,w)"
   ]
  },
  {
   "cell_type": "code",
   "execution_count": 77,
   "metadata": {},
   "outputs": [],
   "source": [
    "# возвращает значение функционала MSPE для выборки (X, y) и вектора весов w\n",
    "def get_func(w, X, y):\n",
    "    Li = (y-make_pred(X, w))/y\n",
    "    return np.dot(Li,Li)/y.shape[0]"
   ]
  },
  {
   "cell_type": "code",
   "execution_count": null,
   "metadata": {
    "collapsed": true
   },
   "outputs": [],
   "source": [
    "# возвращает градиент функционала MSPE для выборки (X, y) и вектора весов w\n",
    "def get_grad(w, X, y):\n",
    "    pass"
   ]
  },
  {
   "cell_type": "code",
   "execution_count": null,
   "metadata": {
    "collapsed": true
   },
   "outputs": [],
   "source": [
    "# возвращает значение регуляризованного функционала MSPE для выборки (X, y) и вектора весов w\n",
    "def get_reg_func(w, X, y):\n",
    "    pass"
   ]
  },
  {
   "cell_type": "code",
   "execution_count": null,
   "metadata": {
    "collapsed": true
   },
   "outputs": [],
   "source": [
    "# возвращает градиент регуляризованного функционала MSPE для выборки (X, y) и вектора весов w\n",
    "def get_reg_grad(w, X, y):\n",
    "    pass"
   ]
  },
  {
   "cell_type": "markdown",
   "metadata": {},
   "source": [
    "**21. (1 балл)** Реализуйте метод градиентного спуска для описанных функционалов ($MSPE$ и его регуляризованный вариант). Функция должна принимать следующие параметры:\n",
    " - X — матрица \"объект-признак\";\n",
    " - y — вектор целевой переменной;\n",
    " - w0 — начальное значение вектора весов;\n",
    " - step_size — значение темпа обучения;\n",
    " - max_iter — максимальное число итераций;\n",
    " - eps — значение, используемое в критерии останова;\n",
    " - is_reg — бинарный параметр, принимает значение True в случае наличия регуляризации функционала, False — в противном случае.\n",
    " \n",
    "Процесс должен быть остановлен, если выполнено хотя бы одно из следующих условий:\n",
    " - было выполнено заданное количество итераций max_iter;\n",
    " - евклидова норма разности векторов $w$ на соседних итерациях стала меньше, чем eps.\n",
    "\n",
    "Функция должна возвращать полученный в результате оптимизации вектор $w$ и список значений функционала на каждой итерации."
   ]
  },
  {
   "cell_type": "code",
   "execution_count": null,
   "metadata": {
    "collapsed": true
   },
   "outputs": [],
   "source": [
    "def grad_descent(X, y, step_size, max_iter, eps, is_reg):\n",
    "    # Your code here"
   ]
  },
  {
   "cell_type": "markdown",
   "metadata": {},
   "source": [
    "Обучите линейную регрессию с функционалом $MSPE$ на обучающей выборке при помощи метода градиентного спуска и изобразите кривые зависимости значения функционала от номера итерации для различных:\n",
    " * значений размера шага из набора [0.001, 1, 10];\n",
    " * способов начальной инициализации вектора весов (нули, случайные веса).\n",
    "\n",
    "Проанализируйте полученные результаты — влияют ли данные параметры на скорость сходимости и итоговое качество? Если да, то как?"
   ]
  },
  {
   "cell_type": "code",
   "execution_count": null,
   "metadata": {
    "collapsed": true
   },
   "outputs": [],
   "source": [
    "# Your code here"
   ]
  },
  {
   "cell_type": "markdown",
   "metadata": {},
   "source": [
    "**22. (0.5 балла)** Обучите линейную регрессию с функционалом MSPE и его регуляризованным вариантом на обучающей выборке при помощи метода градиентного спуска и изобразите кривые зависимости значения функционала от номера итерации. Исследуйте зависимость скорости сходимости от наличия регуляризации. Обоснуйте, почему так происходит."
   ]
  },
  {
   "cell_type": "code",
   "execution_count": null,
   "metadata": {
    "collapsed": true
   },
   "outputs": [],
   "source": [
    "# Your code here"
   ]
  },
  {
   "cell_type": "markdown",
   "metadata": {},
   "source": [
    "Метод градиентного спуска может быть весьма трудозатратен в случае большого размера обучающей выборки. Поэтому часто используют метод стохастического градиентного спуска, где на каждой итерации выбирается случайный объект из обучающей выборки и обновление весов происходит только по этому объекту. \n",
    "\n",
    "**23. (1 доп. балл)**  Реализуйте метод стохастического градиентного спуска (SGD) для описанных функционалов ($MSPE$ и его регуляризованный вариант). Функция должна иметь параметры и возвращаемое значение, аналогичные оным функции grad\\_descent из п.21. Кроме того, должен использоваться аналогичный критерий останова."
   ]
  },
  {
   "cell_type": "code",
   "execution_count": null,
   "metadata": {
    "collapsed": true
   },
   "outputs": [],
   "source": [
    "def sgd(X, y, step_size, max_iter, eps, is_reg):\n",
    "    # Your code here"
   ]
  },
  {
   "cell_type": "markdown",
   "metadata": {},
   "source": [
    "Обучите линейную регрессию с функционалом $MSPE$ и его регуляризованным вариантом на обучающей выборке при помощи метода стохастического градиентного спуска, подобрав при этом размер шага, при котором метод будет сходиться. Нарисуйте график сходимости. Выведите значения $MSPE, MSE, R^2$ на контрольной выборке."
   ]
  },
  {
   "cell_type": "code",
   "execution_count": null,
   "metadata": {
    "collapsed": true
   },
   "outputs": [],
   "source": [
    "# Your code here"
   ]
  },
  {
   "cell_type": "markdown",
   "metadata": {},
   "source": [
    "**24. (0.5 доп. балла)** Аналогично п.22 исследуйте зависимость скорости сходимости метода SGD от наличия регуляризации. Обоснуйте, почему так происходит."
   ]
  },
  {
   "cell_type": "code",
   "execution_count": null,
   "metadata": {
    "collapsed": true
   },
   "outputs": [],
   "source": [
    "# Your code here"
   ]
  },
  {
   "cell_type": "markdown",
   "metadata": {},
   "source": [
    "**25. (0.5 балла)** Обучите стандартную линейную регрессию с функционалом качества MSE на обучающей выборке и выведите значение MSPE полученного решения на контрольной выборке. Как оно соотносится с аналогичным результатом для решения, полученного в п.22? Почему?"
   ]
  },
  {
   "cell_type": "code",
   "execution_count": null,
   "metadata": {
    "collapsed": true
   },
   "outputs": [],
   "source": [
    "# Your code here"
   ]
  },
  {
   "cell_type": "markdown",
   "metadata": {},
   "source": [
    "Здесь вы можете поделиться своими мыслями по поводу этого задания."
   ]
  },
  {
   "cell_type": "code",
   "execution_count": null,
   "metadata": {
    "collapsed": true
   },
   "outputs": [],
   "source": []
  },
  {
   "cell_type": "markdown",
   "metadata": {},
   "source": [
    "А здесь — вставить вашу любимую картинку."
   ]
  },
  {
   "cell_type": "code",
   "execution_count": null,
   "metadata": {
    "collapsed": true
   },
   "outputs": [],
   "source": []
  }
 ],
 "metadata": {
  "kernelspec": {
   "display_name": "Python 3",
   "language": "python",
   "name": "python3"
  },
  "language_info": {
   "codemirror_mode": {
    "name": "ipython",
    "version": 3
   },
   "file_extension": ".py",
   "mimetype": "text/x-python",
   "name": "python",
   "nbconvert_exporter": "python",
   "pygments_lexer": "ipython3",
   "version": "3.7.6"
  }
 },
 "nbformat": 4,
 "nbformat_minor": 1
}
